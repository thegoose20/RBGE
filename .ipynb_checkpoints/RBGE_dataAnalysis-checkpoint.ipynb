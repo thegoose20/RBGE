{
 "cells": [
  {
   "cell_type": "code",
   "execution_count": 2,
   "metadata": {},
   "outputs": [],
   "source": [
    "import pandas as pd\n",
    "df = pd.read_csv(\"testData_first100Years.csv\")"
   ]
  },
  {
   "cell_type": "code",
   "execution_count": 3,
   "metadata": {},
   "outputs": [
    {
     "data": {
      "text/html": [
       "<div>\n",
       "<style>\n",
       "    .dataframe thead tr:only-child th {\n",
       "        text-align: right;\n",
       "    }\n",
       "\n",
       "    .dataframe thead th {\n",
       "        text-align: left;\n",
       "    }\n",
       "\n",
       "    .dataframe tbody tr th {\n",
       "        vertical-align: top;\n",
       "    }\n",
       "</style>\n",
       "<table border=\"1\" class=\"dataframe\">\n",
       "  <thead>\n",
       "    <tr style=\"text-align: right;\">\n",
       "      <th></th>\n",
       "      <th>gbifid</th>\n",
       "      <th>datasetkey</th>\n",
       "      <th>occurrenceid</th>\n",
       "      <th>kingdom</th>\n",
       "      <th>phylum</th>\n",
       "      <th>class</th>\n",
       "      <th>order</th>\n",
       "      <th>family</th>\n",
       "      <th>genus</th>\n",
       "      <th>species</th>\n",
       "      <th>...</th>\n",
       "      <th>recordnumber</th>\n",
       "      <th>identifiedby</th>\n",
       "      <th>license</th>\n",
       "      <th>rightsholder</th>\n",
       "      <th>recordedby</th>\n",
       "      <th>typestatus</th>\n",
       "      <th>establishmentmeans</th>\n",
       "      <th>lastinterpreted</th>\n",
       "      <th>mediatype</th>\n",
       "      <th>issue</th>\n",
       "    </tr>\n",
       "  </thead>\n",
       "  <tbody>\n",
       "    <tr>\n",
       "      <th>0</th>\n",
       "      <td>1228049310</td>\n",
       "      <td>bf2a4bf0-5f31-11de-b67e-b8a03c50a862</td>\n",
       "      <td>http://data.rbge.org.uk/herb/E00740250</td>\n",
       "      <td>Plantae</td>\n",
       "      <td>Tracheophyta</td>\n",
       "      <td>Magnoliopsida</td>\n",
       "      <td>Saxifragales</td>\n",
       "      <td>Saxifragaceae</td>\n",
       "      <td>Micranthes</td>\n",
       "      <td>Micranthes engleri</td>\n",
       "      <td>...</td>\n",
       "      <td>NaN</td>\n",
       "      <td>NaN</td>\n",
       "      <td>CC_BY_NC_4_0</td>\n",
       "      <td>NaN</td>\n",
       "      <td>NaN</td>\n",
       "      <td>NaN</td>\n",
       "      <td>NaN</td>\n",
       "      <td>2017-10-06T15:43Z</td>\n",
       "      <td>NaN</td>\n",
       "      <td>GEODETIC_DATUM_ASSUMED_WGS84</td>\n",
       "    </tr>\n",
       "    <tr>\n",
       "      <th>1</th>\n",
       "      <td>1228048599</td>\n",
       "      <td>bf2a4bf0-5f31-11de-b67e-b8a03c50a862</td>\n",
       "      <td>http://data.rbge.org.uk/herb/E00740292</td>\n",
       "      <td>Plantae</td>\n",
       "      <td>Tracheophyta</td>\n",
       "      <td>Magnoliopsida</td>\n",
       "      <td>Saxifragales</td>\n",
       "      <td>Saxifragaceae</td>\n",
       "      <td>Micranthes</td>\n",
       "      <td>Micranthes stellaris</td>\n",
       "      <td>...</td>\n",
       "      <td>NaN</td>\n",
       "      <td>NaN</td>\n",
       "      <td>NaN</td>\n",
       "      <td>NaN</td>\n",
       "      <td>NaN</td>\n",
       "      <td>NaN</td>\n",
       "      <td>NaN</td>\n",
       "      <td>NaN</td>\n",
       "      <td>NaN</td>\n",
       "      <td>NaN</td>\n",
       "    </tr>\n",
       "    <tr>\n",
       "      <th>2</th>\n",
       "      <td>1228047889</td>\n",
       "      <td>bf2a4bf0-5f31-11de-b67e-b8a03c50a862</td>\n",
       "      <td>http://data.rbge.org.uk/herb/E00740335</td>\n",
       "      <td>Plantae</td>\n",
       "      <td>Tracheophyta</td>\n",
       "      <td>Magnoliopsida</td>\n",
       "      <td>Saxifragales</td>\n",
       "      <td>Saxifragaceae</td>\n",
       "      <td>Micranthes</td>\n",
       "      <td>Micranthes engleri</td>\n",
       "      <td>...</td>\n",
       "      <td>NaN</td>\n",
       "      <td>NaN</td>\n",
       "      <td>CC_BY_NC_4_0</td>\n",
       "      <td>NaN</td>\n",
       "      <td>NaN</td>\n",
       "      <td>NaN</td>\n",
       "      <td>NaN</td>\n",
       "      <td>2017-10-06T15:43Z</td>\n",
       "      <td>NaN</td>\n",
       "      <td>GEODETIC_DATUM_ASSUMED_WGS84</td>\n",
       "    </tr>\n",
       "    <tr>\n",
       "      <th>3</th>\n",
       "      <td>1228047386</td>\n",
       "      <td>bf2a4bf0-5f31-11de-b67e-b8a03c50a862</td>\n",
       "      <td>http://data.rbge.org.uk/herb/E00740202</td>\n",
       "      <td>Plantae</td>\n",
       "      <td>Tracheophyta</td>\n",
       "      <td>Magnoliopsida</td>\n",
       "      <td>Saxifragales</td>\n",
       "      <td>Saxifragaceae</td>\n",
       "      <td>Micranthes</td>\n",
       "      <td>Micranthes stellaris</td>\n",
       "      <td>...</td>\n",
       "      <td>NaN</td>\n",
       "      <td>NaN</td>\n",
       "      <td>NaN</td>\n",
       "      <td>NaN</td>\n",
       "      <td>NaN</td>\n",
       "      <td>NaN</td>\n",
       "      <td>NaN</td>\n",
       "      <td>NaN</td>\n",
       "      <td>NaN</td>\n",
       "      <td>NaN</td>\n",
       "    </tr>\n",
       "    <tr>\n",
       "      <th>4</th>\n",
       "      <td>1228047338</td>\n",
       "      <td>bf2a4bf0-5f31-11de-b67e-b8a03c50a862</td>\n",
       "      <td>http://data.rbge.org.uk/herb/E00740216</td>\n",
       "      <td>Plantae</td>\n",
       "      <td>Tracheophyta</td>\n",
       "      <td>Magnoliopsida</td>\n",
       "      <td>Saxifragales</td>\n",
       "      <td>Saxifragaceae</td>\n",
       "      <td>Micranthes</td>\n",
       "      <td>Micranthes stellaris</td>\n",
       "      <td>...</td>\n",
       "      <td>NaN</td>\n",
       "      <td>NaN</td>\n",
       "      <td>CC_BY_NC_4_0</td>\n",
       "      <td>NaN</td>\n",
       "      <td>Johnston</td>\n",
       "      <td>NaN</td>\n",
       "      <td>NaN</td>\n",
       "      <td>NaN</td>\n",
       "      <td>NaN</td>\n",
       "      <td>NaN</td>\n",
       "    </tr>\n",
       "  </tbody>\n",
       "</table>\n",
       "<p>5 rows × 44 columns</p>\n",
       "</div>"
      ],
      "text/plain": [
       "       gbifid                            datasetkey  \\\n",
       "0  1228049310  bf2a4bf0-5f31-11de-b67e-b8a03c50a862   \n",
       "1  1228048599  bf2a4bf0-5f31-11de-b67e-b8a03c50a862   \n",
       "2  1228047889  bf2a4bf0-5f31-11de-b67e-b8a03c50a862   \n",
       "3  1228047386  bf2a4bf0-5f31-11de-b67e-b8a03c50a862   \n",
       "4  1228047338  bf2a4bf0-5f31-11de-b67e-b8a03c50a862   \n",
       "\n",
       "                             occurrenceid  kingdom        phylum  \\\n",
       "0  http://data.rbge.org.uk/herb/E00740250  Plantae  Tracheophyta   \n",
       "1  http://data.rbge.org.uk/herb/E00740292  Plantae  Tracheophyta   \n",
       "2  http://data.rbge.org.uk/herb/E00740335  Plantae  Tracheophyta   \n",
       "3  http://data.rbge.org.uk/herb/E00740202  Plantae  Tracheophyta   \n",
       "4  http://data.rbge.org.uk/herb/E00740216  Plantae  Tracheophyta   \n",
       "\n",
       "           class         order         family       genus  \\\n",
       "0  Magnoliopsida  Saxifragales  Saxifragaceae  Micranthes   \n",
       "1  Magnoliopsida  Saxifragales  Saxifragaceae  Micranthes   \n",
       "2  Magnoliopsida  Saxifragales  Saxifragaceae  Micranthes   \n",
       "3  Magnoliopsida  Saxifragales  Saxifragaceae  Micranthes   \n",
       "4  Magnoliopsida  Saxifragales  Saxifragaceae  Micranthes   \n",
       "\n",
       "                species              ...              recordnumber  \\\n",
       "0    Micranthes engleri              ...                       NaN   \n",
       "1  Micranthes stellaris              ...                       NaN   \n",
       "2    Micranthes engleri              ...                       NaN   \n",
       "3  Micranthes stellaris              ...                       NaN   \n",
       "4  Micranthes stellaris              ...                       NaN   \n",
       "\n",
       "  identifiedby       license rightsholder recordedby typestatus  \\\n",
       "0          NaN  CC_BY_NC_4_0          NaN        NaN        NaN   \n",
       "1          NaN           NaN          NaN        NaN        NaN   \n",
       "2          NaN  CC_BY_NC_4_0          NaN        NaN        NaN   \n",
       "3          NaN           NaN          NaN        NaN        NaN   \n",
       "4          NaN  CC_BY_NC_4_0          NaN   Johnston        NaN   \n",
       "\n",
       "   establishmentmeans    lastinterpreted  mediatype  \\\n",
       "0                 NaN  2017-10-06T15:43Z        NaN   \n",
       "1                 NaN                NaN        NaN   \n",
       "2                 NaN  2017-10-06T15:43Z        NaN   \n",
       "3                 NaN                NaN        NaN   \n",
       "4                 NaN                NaN        NaN   \n",
       "\n",
       "                          issue  \n",
       "0  GEODETIC_DATUM_ASSUMED_WGS84  \n",
       "1                           NaN  \n",
       "2  GEODETIC_DATUM_ASSUMED_WGS84  \n",
       "3                           NaN  \n",
       "4                           NaN  \n",
       "\n",
       "[5 rows x 44 columns]"
      ]
     },
     "execution_count": 3,
     "metadata": {},
     "output_type": "execute_result"
    }
   ],
   "source": [
    "df.head()"
   ]
  },
  {
   "cell_type": "code",
   "execution_count": 28,
   "metadata": {},
   "outputs": [
    {
     "name": "stdout",
     "output_type": "stream",
     "text": [
      "(565, 44)\n"
     ]
    }
   ],
   "source": [
    "print(df.shape)\n",
    "assert (len(df['gbifid'])) == df.shape[0], \"Each record should have a unique gbifid\""
   ]
  },
  {
   "cell_type": "code",
   "execution_count": 18,
   "metadata": {},
   "outputs": [
    {
     "name": "stdout",
     "output_type": "stream",
     "text": [
      "['Plantae']\n",
      "1 Kingdom\n"
     ]
    }
   ],
   "source": [
    "print(df.kingdom.unique())\n",
    "print(str(len(df.kingdom.unique())) + \" Kingdom\")"
   ]
  },
  {
   "cell_type": "code",
   "execution_count": 19,
   "metadata": {},
   "outputs": [
    {
     "name": "stdout",
     "output_type": "stream",
     "text": [
      "['Tracheophyta' 'Bryophyta' 'Marchantiophyta']\n",
      "3 Phyla\n"
     ]
    }
   ],
   "source": [
    "print(df.phylum.unique())\n",
    "print(str(len(df.phylum.unique())) + \" Phyla\")"
   ]
  },
  {
   "cell_type": "code",
   "execution_count": 20,
   "metadata": {},
   "outputs": [
    {
     "name": "stdout",
     "output_type": "stream",
     "text": [
      "['Magnoliopsida' 'Liliopsida' 'Sphagnopsida' 'Jungermanniopsida'\n",
      " 'Bryopsida' 'Polypodiopsida']\n",
      "6 Classes\n"
     ]
    }
   ],
   "source": [
    "print(df['class'].unique())\n",
    "print(str(len(df['class'].unique())) + \" Classes\")"
   ]
  },
  {
   "cell_type": "code",
   "execution_count": 21,
   "metadata": {},
   "outputs": [
    {
     "name": "stdout",
     "output_type": "stream",
     "text": [
      "['Saxifragales' 'Ranunculales' 'Ericales' 'Alismatales' 'Poales' 'Lamiales'\n",
      " 'Oxalidales' 'Gentianales' 'Caryophyllales' 'Asparagales' 'Sphagnales'\n",
      " 'Fabales' 'Sapindales' 'Rosales' 'Jungermanniales' 'Polytrichales'\n",
      " 'Polypodiales' 'Apiales' 'Malpighiales' 'Myrtales' 'Laurales'\n",
      " 'Aquifoliales' 'Piperales' 'Malvales' 'Asterales' 'Fagales']\n",
      "26 Orders\n"
     ]
    }
   ],
   "source": [
    "print(df['order'].unique())\n",
    "print(str(len(df['order'].unique())) + \" Orders\")"
   ]
  },
  {
   "cell_type": "code",
   "execution_count": 22,
   "metadata": {},
   "outputs": [
    {
     "name": "stdout",
     "output_type": "stream",
     "text": [
      "['Saxifragaceae' 'Ranunculaceae' 'Primulaceae' 'Tofieldiaceae' 'Poaceae'\n",
      " 'Lamiaceae' 'Elaeocarpaceae' 'Gentianaceae' 'Caryophyllaceae'\n",
      " 'Orchidaceae' 'Sphagnaceae' 'Fabaceae' 'Sapindaceae' 'Ericaceae'\n",
      " 'Moraceae' 'Scapaniaceae' 'Sapotaceae' 'Polytrichaceae' 'Apocynaceae'\n",
      " 'Aspleniaceae' 'Apiaceae' 'Salicaceae' 'Loganiaceae' 'Melastomataceae'\n",
      " 'Myrtaceae' 'Pentaphylacaceae' 'Lauraceae' 'Aquifoliaceae' 'Euphorbiaceae'\n",
      " 'Pteridaceae' 'Piperaceae' 'Araliaceae' 'Meliaceae' 'Cephaloziaceae'\n",
      " 'Dipterocarpaceae' 'Asteraceae' 'Fagaceae']\n",
      "37 Families\n"
     ]
    }
   ],
   "source": [
    "print(df['family'].unique())\n",
    "print(str(len(df['family'].unique())) + \" Families\")"
   ]
  },
  {
   "cell_type": "code",
   "execution_count": 23,
   "metadata": {},
   "outputs": [
    {
     "name": "stdout",
     "output_type": "stream",
     "text": [
      "['Micranthes' 'Caltha' 'Anemone' 'Saxifraga' 'Helleborus' 'Primula'\n",
      " 'Tofieldia' 'Clematis' 'Themeda' 'Anisomeles' 'Elaeocarpus' 'Gentianella'\n",
      " 'Stellaria' 'Ophrys' 'Sphagnum' 'Astragalus' 'Cupaniopsis' 'Conandrium'\n",
      " 'Scleranthus' 'Lotus' 'Hypopitys' 'Parartocarpus' 'Pyrola' 'Scapania'\n",
      " 'Planchonella' 'Polytrichum' 'Marsdenia' 'Asplenium' 'Ferulago' 'Casearia'\n",
      " 'Strychnos' 'Hymenasplenium' 'Creochiton' 'Syzygium' 'Adinandra'\n",
      " 'Cryptocarya' 'Pleurospermum' 'Ilex' 'Astronia' 'Cinnamomum' 'Macaranga'\n",
      " 'Lindsayomyrtus' 'Ochrosia' 'Adiantum' 'Ficus' 'Fagraea' 'Sloanea' 'Piper'\n",
      " 'Polyscias' 'Acalypha' 'Dysoxylum' 'Cephalozia' 'Silene' 'Anisoptera' nan\n",
      " 'Lithocarpus' 'Rhododendron' 'Endiandra']\n",
      "58 Genuses\n"
     ]
    }
   ],
   "source": [
    "print(df['genus'].unique())\n",
    "print(str(len(df['genus'].unique())) + \" Genuses\")"
   ]
  },
  {
   "cell_type": "code",
   "execution_count": 24,
   "metadata": {},
   "outputs": [
    {
     "name": "stdout",
     "output_type": "stream",
     "text": [
      "['Micranthes engleri' 'Micranthes stellaris' 'Caltha palustris'\n",
      " 'Anemone nemorosa' 'Saxifraga aizoides' 'Helleborus viridis'\n",
      " 'Primula acaulis' 'Tofieldia pusilla' 'Clematis smilacifolia'\n",
      " 'Clematis graveolens' 'Themeda quadrivalvis' 'Themeda triandra'\n",
      " 'Themeda anathera' 'Themeda arguens' 'Clematis grata' 'Anisomeles indica'\n",
      " 'Anisomeles malabarica' 'Elaeocarpus culminicola' 'Gentianella campestris'\n",
      " 'Stellaria palustris' 'Ophrys sphegodes' 'Sphagnum palustre'\n",
      " 'Saxifraga hypnoides' 'Astragalus danicus' 'Cupaniopsis curvidens'\n",
      " 'Conandrium polyanthum' 'Scleranthus annuus' 'Lotus gebelia'\n",
      " 'Hypopitys monotropa' 'Parartocarpus venenosa' 'Pyrola media'\n",
      " 'Scapania gracilis' 'Planchonella forbesii' 'Sphagnum papillosum'\n",
      " 'Polytrichum jensenii' 'Marsdenia lorea' 'Asplenium trichomanes'\n",
      " 'Ferulago trachycarpa' 'Casearia grewiifolia' 'Strychnos colubrina'\n",
      " 'Hymenasplenium unilaterale' 'Creochiton novoguineensis'\n",
      " 'Syzygium fastigiatum' 'Adinandra forbesii' 'Cryptocarya myrcioides'\n",
      " 'Pleurospermum candollei' 'Ilex forbesii' 'Astronia arborea'\n",
      " 'Cinnamomum bejolghota' 'Macaranga polyadenia' 'Asplenium auriculatum'\n",
      " 'Lindsayomyrtus racemoides' 'Ochrosia ficifolia' 'Adiantum edgeworthii'\n",
      " 'Ficus rhizophoriphylla' 'Ficus trachypison' 'Fagraea gracilipes'\n",
      " 'Sloanea sogerensis' 'Asplenium cristatum' 'Asplenium sarelii'\n",
      " 'Piper obesispicum' 'Polyscias ledermannii' 'Sphagnum capillifolium'\n",
      " 'Acalypha longispica' 'Dysoxylum variabile' 'Macaranga involucrata'\n",
      " 'Cephalozia affinis' 'Ficus edelfeltii' 'Asplenium ensiforme'\n",
      " 'Ficus casearioides' 'Adiantum terminatum' 'Silene tibetica'\n",
      " 'Adiantum philippense' 'Anisoptera thurifera' nan 'Lithocarpus sogerensis'\n",
      " 'Syzygium sogerense' 'Rhododendron principis' 'Endiandra forbesii'\n",
      " 'Ficus pantoniana']\n",
      "80 Species\n"
     ]
    }
   ],
   "source": [
    "print(df['species'].unique())\n",
    "print(str(len(df['species'].unique())) + \" Species\")"
   ]
  },
  {
   "cell_type": "code",
   "execution_count": 29,
   "metadata": {},
   "outputs": [
    {
     "name": "stdout",
     "output_type": "stream",
     "text": [
      "Index(['gbifid', 'datasetkey', 'occurrenceid', 'kingdom', 'phylum', 'class',\n",
      "       'order', 'family', 'genus', 'species', 'infraspecificepithet',\n",
      "       'taxonrank', 'scientificname', 'countrycode', 'locality',\n",
      "       'publishingorgkey', 'decimallatitude', 'decimallongitude',\n",
      "       'coordinateuncertaintyinmeters', 'coordinateprecision', 'elevation',\n",
      "       'elevationaccuracy', 'depth', 'depthaccuracy', 'eventdate', 'day',\n",
      "       'month', 'year', 'taxonkey', 'specieskey', 'basisofrecord',\n",
      "       'institutioncode', 'collectioncode', 'catalognumber', 'recordnumber',\n",
      "       'identifiedby', 'license', 'rightsholder', 'recordedby', 'typestatus',\n",
      "       'establishmentmeans', 'lastinterpreted', 'mediatype', 'issue'],\n",
      "      dtype='object')\n"
     ]
    }
   ],
   "source": [
    "print(df.columns)"
   ]
  },
  {
   "cell_type": "markdown",
   "metadata": {},
   "source": [
    "QUESTIONS\n",
    "\n",
    "Who is a 'rightsholder'?\n",
    "\n",
    "What does it mean to have (or not have) a 'license'?\n",
    "\n",
    "What does 'establishmentmeans' indicate?\n",
    "\n",
    "Who determined the location coordinates and precision accuracy?\n",
    "\n",
    "What does 'basisofrecord' mean?\n",
    "\n",
    "What is 'typestatus'?\n",
    "\n",
    "What does 'lastinterpreted' record?\n",
    "\n",
    "What does 'mediatype' record?\n",
    "\n",
    "What does 'issue' record?\n",
    "\n",
    "Is 'eventdate' the date a plant was witnessesed or received by RBGE?\n",
    "\n",
    "What is an 'infraspecificepithet'?\n",
    "\n",
    "What is a 'taxonrank'?\n",
    "\n",
    "Is the 'publishingorgkey' associated with RBGE?"
   ]
  },
  {
   "cell_type": "code",
   "execution_count": 30,
   "metadata": {},
   "outputs": [
    {
     "name": "stdout",
     "output_type": "stream",
     "text": [
      "['foot of Ben Lawers' 'Helvellyn' 'Glen Dole'\n",
      " 'stream in Glen Cairn [carim?]' 'Ben Lawers' 'west of Killin Station'\n",
      " 'Ben Voirlich' '200 yards from the junction of Yorkshire' 'Lochnagar'\n",
      " 'Benmore' 'Ben Ledi' 'Arran' 'Snowdon' 'Lachin y Gair [Lochnagar]'\n",
      " 'Cader Idnis' 'Ben Leugh [Ben Laoigh?]' 'Ben Nevis' 'near Loch Brandy'\n",
      " 'Meal da greihdy [Meall na Graidhe]' 'Glen Phee [Fee]'\n",
      " 'Ben-y-muick-dhui [Ben Macdui]' 'Glen Callater' 'Ben Lomond' 'Glen Rosa'\n",
      " 'Teesdale' 'Banffshire' 'Summit of Ben Lawers' 'mountains of Clova'\n",
      " 'Glen Croe between Loch Awe & Loch Lomond. near Rest and be Thankful.' nan\n",
      " 'Glen Lochy' 'Dollar Law' 'Ochil' 'Glen Candlich - Callater' 'Braeriach'\n",
      " 'North wales' 'mountains near Llanberis' 'Glencoe' 'Skye' 'The Cheviot'\n",
      " 'The Ochils' 'Nant Francon' 'Deny-bneathia[?]' 'Deryvoneathia[?!?]'\n",
      " 'Moel Shabadd [Moel Siabod]' 'Delphi' 'Ben MacDhui' 'Moffat' 'Ben Alder'\n",
      " 'near Darlington' 'Raby Park [Raby Castle]' \"King's Caple\" 'Glen Beg'\n",
      " 'Torc Mountain' 'Balquhidder' 'Kew Moat' 'Micklefell' 'Hazelrigg'\n",
      " 'Ben Vorlich' 'Belford' 'Clova' 'from Newbattle Woods'\n",
      " 'Breich Water [stream]' 'Alvah woods' 'near Coniscliff' 'Pentland Hills'\n",
      " 'Balerno. Bks of ? [Banks of Burn?]'\n",
      " 'North bank of Gladhouse reservoir at the Moorfoot Hills' 'Roslin'\n",
      " 'Clova mountains' 'sands of Barry' 'Newbattle Woods' 'near Bath'\n",
      " 'Corstorphine' 'Hampstead Heath' 'Ben Avon' 'Colington Woods'\n",
      " 'Helensburgh' 'near Ryde' 'Henbury' 'Balmullo' 'Duddingston Loch'\n",
      " 'found near Colinton' 'Banks of the Orchay' 'Orphir' 'near Balquhidder'\n",
      " 'St Germains [loch?]' 'marsh near Aberdour harbour'\n",
      " 'Auchtertool Linn [pool?]' 'Colinton' 'Alt na Breaclaich' 'near Glasgow'\n",
      " 'Linlithgow' 'from the Esk side [banks of the River Esk?]' 'Orkney'\n",
      " 'Ditcham Woods. Hants' 'Elginshire [Moray]'\n",
      " 'in the glen running southward from the highest peak of the Craig Chailliach range. Killin.'\n",
      " 'Ditcham Woods' 'near Edin [Edinburgh?]' 'Breeina'\n",
      " 'hill near Lochearnhead' 'Glen of the Whitewater'\n",
      " 'on ascent from Kinlochewe to Achnasheen' 'Durris' 'Inveraray'\n",
      " 'Hatherleigh' 'banks of Loch Lomond' 'Widdybank Fell'\n",
      " 'Craig-Cailleach [Creag na Caillich]' 'Garelochead' 'Leigh Woods'\n",
      " 'Moncton Farleigh' 'Place Fell' 'Coton' 'Bute' 'Glen Phie [Corrie Fee]'\n",
      " 'Keswick' 'Bix' 'Cliff Wood' 'on mountains of Clova' 'Ben Lui' 'Hoy'\n",
      " 'St Kilda' 'Widdybank fell'\n",
      " 'from the banks of the Tay and near Bothwick Castle [co-ords for the castle]'\n",
      " 'Grangemuir' 'Tunstall Hope' 'Morton wood near Aberdour' 'Glenogle'\n",
      " 'Glen Coe' 'Mull of Kintyre[?]' 'Ayr' 'Glen Doll' 'Wicklow' 'Holly Park'\n",
      " 'stream in Red Tarn' 'Cardross' \"Curtis's garden\" 'rocks at the OC[?]'\n",
      " 'Leigh woods' 'Weston mill' 'Dalmally' 'Castleton of Braemar'\n",
      " 'Banks of the Tyne' 'Hopetown Woods' 'Colinton Woods' 'Meopham' 'Ballater'\n",
      " 'Roslyn [Roslin]' 'Queensferry' 'Gourock' 'Lochy [Lochy Water]'\n",
      " 'Cambridgeshire' 'Island of Hoy' 'Buttermere'\n",
      " 'Little Craigandal [Creag an Dail Bheag]' 'Letcombe Basset'\n",
      " 'Craig Challiach [Creag na Caillich]' 'Kirkcaldy' 'South Widdy Bank'\n",
      " 'Craig Chailleach [Creag na Caillich]' 'west of Loch Lubnaig'\n",
      " 'marsh near Clova' 'Little Craigindahl [Creag an Dail Bheag]'\n",
      " 'Breadalbane Mountains' 'Mael [meall?]Gouchlar' 'Middleton in Teesdale'\n",
      " 'Glen Muick' 'Cronkley fell' 'Glen Lui' 'Ben Lawer' 'Glen Lochlay'\n",
      " 'Glen Lochay' 'Ben Lui (Lawers)' 'Killin Mountains' 'Cronkley Fell'\n",
      " 'Mael Gouchlar [Meall Goblach?]' 'Callander' 'Glen Isla'\n",
      " 'from the low ground on the ascent to Ben Lawers'\n",
      " 'Meall Dhuin Craig [Croisg] (mountain)' 'Cairngorm Mountains [VC 92-96]'\n",
      " 'Sispara Ghat' 'Paori' 'Curepipe' 'Bashar. Rarang' 'Raiang'\n",
      " 'In pradensis apricis montosis prope Bone ad basim montis Djebel Edough secus viam'\n",
      " 'Simla' 'Bashar Poari' 'Yokohama' 'Sydney' 'Werribee' 'Maneroo'\n",
      " 'Frankston' 'Ringwood' 'Maneroo plains' 'Uiki[?] to Sairi' 'Kamru'\n",
      " 'Ootacamund' 'San Thome' 'Sogeri Region'\n",
      " 'in a ditch that runs from the farmhouse call Haltown' 'Lynedale'\n",
      " '[Edinburgh]' 'Beach and chalk hills between Walmer and Dover' 'Seaton'\n",
      " 'Sogeri region' 'Lindean pebbles' 'Fenton Tower'\n",
      " 'at the foot of the Bingol mountains to Gumgum' 'Winchburgh'\n",
      " 'Cawdor Woods' 'Tollcross' '[Pentland Hills]' 'near Kincardine.'\n",
      " 'Port Jackson' 'on rocks below Caldron Snout [Cauldron Snout]' 'Killean'\n",
      " 'Port Lincoln' 'Hib Killarney' 'Killin' 'Glen Dole (Glen Doll) '\n",
      " 'Banks of Basingstoke Canal nr Woking' 'Near North Berwick' 'Sogeri'\n",
      " 'Agpalisirorfik' 'North side of Loch Voil'\n",
      " '[Da_ys] gorge nr. Sprinkling Tarn' 'Eton' 'Edinburgh' 'Glen of Quiech'\n",
      " 'Blairgowrie' 'In monte Kierki' '[Creag na Caillich] Craig Cailleach'\n",
      " 'Pitlochry' 'Sands of Barry' 'West Lomond' 'Auchertool. Camilla ruins'\n",
      " 'Gosford Links' 'Stridden Edge [Striding Edge]' 'Glen Mill'\n",
      " 'Dartford Brent' 'Bayston Hill' 'Ferry Hills' 'near Halnaby Hall'\n",
      " 'Near Dollar' 'Soregi Region' 'Blair Athole' 'Cawdor woods' '[Edinburgh'\n",
      " 'Settle' 'W [of] Walmer Castle' 'Near Hartlip' 'Capelaw'\n",
      " 'Pofsil Marsh. Near Glasgow' 'Cardenden' 'N Berwick' 'Coldingham Cliff'\n",
      " 'Banks and hills near Rainham' 'Harlow hill' 'Strathtay' 'Glen Falloch'\n",
      " 'Near Halnaby Hall' ' Lough-Bray' 'Field near Braid Hills'\n",
      " 'Cliffs at North Queensferry' 'near Aberlady' 'Queendown Warren'\n",
      " 'Bords du Guzel-Dere' 'Braemar' 'W of Walmer Castle' 'Glen Phee'\n",
      " 'Burenda Pass' 'Ravelrig [illeg.]' 'Sorgeri region' 'Ben More' 'Rani Camp'\n",
      " 'Tentsmuir' 'Nr Doune' 'Port Royal Mountains' 'Las cuevas'\n",
      " 'Aberlady Links' 'Nr. Kirkcaldy' 'Moor at Clunas' 'Gannachy Woods'\n",
      " 'Cowdenbeath' 'Ochil Hills' 'Oakley Woods'\n",
      " 'on rocks below Caldron snout [Cauldron Snout]'\n",
      " 'Beechy Head [Beachy Head]' 'Loch Ericht' 'North Queensferry'\n",
      " 'North bank of Forth near Craigforth' 'Manipur'\n",
      " 'Halfway up Las cuevas Ridge' 'Queensferry N. Fife' 'Gunsgreen'\n",
      " 'Dunglass Dean' 'Campsie Glen' 'Darnaway Woods' 'Kirkstone'\n",
      " 'Tampasopo canyon' 'Nikko' 'Boynton near Bridlington' 'Near Liverpool'\n",
      " 'Askham Bog' 'Near Longniddry' 'Alt Skaerdie Glen Lochay' 'Loch Humphrey'\n",
      " 'Malham Cove' \"Ditches of the swampy moorland near Bruce's Castle\"\n",
      " 'Nr Blair Atholl' 'nr. Dumfries.' 'Near Cockburnspath'\n",
      " 'Sea coast n. Seafield Tower' 'Near Fasque Castle' 'Caenlochan glen'\n",
      " 'Longniddry' 'Tapeissui Gully' 'Near Kirkcaldy' 'Nr Killin' 'Monifieth'\n",
      " 'nr Wolsingham.' 'Regio aboensis: Lojo \"Ojamo\"' 'near Aberdeen.'\n",
      " 'Longsleddale' 'Gamlingay' 'Audley End' 'Baluchistan Wain [mountain]'\n",
      " 'near Pease Dean [nr. Cockburnspath?]' 'Tayniult' 'Dorking' 'Elie'\n",
      " 'Cockenzie Links' 'Glen Ogle' \"Tent's Muir\" 'near Glen Dole [Glen Doll]'\n",
      " 'Pofsil Marsh' 'Loch Lubnaig' \"King's Seat\" 'Carron Waters'\n",
      " 'near Montrose' 'Firwood near Grantown' 'Grizedale Tarn' 'Nova Friburgo'\n",
      " 'St Davids' 'Dalmahoy Hill' 'Newton' 'Camside[?] Knot' 'Near Brechin'\n",
      " 'Near Shipkee' 'North Berwick' 'Luib' 'Near Dover'\n",
      " 'Healthy wood north west of Dunfermline'\n",
      " ' A Blue Therardia found at the North Ferry ' 'Roman road side'\n",
      " 'Craighall Road' 'Cobham' 'Ochils' 'Dollar' 'Chichester'\n",
      " 'Chalky ground by the sea between Dover and Folkestone' 'Creag an Lochain'\n",
      " 'Alt Ghaordie Glen Lochay' 'Auchmithie Cliffs' 'Mount Boy Wood'\n",
      " 'Between Freshfield and Ainsdale' 'Dollywaggon Pike' 'Nisbet'\n",
      " 'Near Gullane' 'near Cobham' 'Wallingford & Paynes Town' 'Largo'\n",
      " 'Gordon moss' 'Mousley Hirst' 'Near Halifax' 'Route de Lhasa a Batang'\n",
      " 'Nr Kingston' 'Burntisland' 'Woods near Dunfermline' 'Coldingham Cliffs'\n",
      " 'Lochmaben' 'Easthaven' 'Thorne Moor York' 'Christchurch'\n",
      " 'In a bog S.W. of Darlington' 'Hills at North Queensferry' '[illeg.]'\n",
      " 'Bassies' 'Ormiston' 'Breags']\n",
      "394 Localities\n"
     ]
    }
   ],
   "source": [
    "print(df['locality'].unique())\n",
    "print(str(len(df['locality'].unique())) + \" Localities\")"
   ]
  },
  {
   "cell_type": "code",
   "execution_count": null,
   "metadata": {
    "collapsed": true
   },
   "outputs": [],
   "source": []
  }
 ],
 "metadata": {
  "kernelspec": {
   "display_name": "Python 3",
   "language": "python",
   "name": "python3"
  },
  "language_info": {
   "codemirror_mode": {
    "name": "ipython",
    "version": 3
   },
   "file_extension": ".py",
   "mimetype": "text/x-python",
   "name": "python",
   "nbconvert_exporter": "python",
   "pygments_lexer": "ipython3",
   "version": "3.6.2"
  }
 },
 "nbformat": 4,
 "nbformat_minor": 2
}
