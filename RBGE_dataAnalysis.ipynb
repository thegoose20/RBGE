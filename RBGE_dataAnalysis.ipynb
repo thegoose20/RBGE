{
 "cells": [
  {
   "cell_type": "markdown",
   "metadata": {},
   "source": [
    "# Initial Exploration\n",
    "\n",
    "Analysing the first 100 years of data available on the Royal Botanic Gardens of Edinburgh from GBIF"
   ]
  },
  {
   "cell_type": "code",
   "execution_count": 2,
   "metadata": {
    "collapsed": true
   },
   "outputs": [],
   "source": [
    "import pandas as pd\n",
    "#df = pd.read_csv(\"testData_first100Years.csv\")\n",
    "df = pd.read_csv"
   ]
  },
  {
   "cell_type": "code",
   "execution_count": 10,
   "metadata": {},
   "outputs": [
    {
     "data": {
      "text/html": [
       "<div>\n",
       "<style>\n",
       "    .dataframe thead tr:only-child th {\n",
       "        text-align: right;\n",
       "    }\n",
       "\n",
       "    .dataframe thead th {\n",
       "        text-align: left;\n",
       "    }\n",
       "\n",
       "    .dataframe tbody tr th {\n",
       "        vertical-align: top;\n",
       "    }\n",
       "</style>\n",
       "<table border=\"1\" class=\"dataframe\">\n",
       "  <thead>\n",
       "    <tr style=\"text-align: right;\">\n",
       "      <th></th>\n",
       "      <th>gbifid</th>\n",
       "      <th>datasetkey</th>\n",
       "      <th>occurrenceid</th>\n",
       "      <th>kingdom</th>\n",
       "      <th>phylum</th>\n",
       "      <th>class</th>\n",
       "      <th>order</th>\n",
       "      <th>family</th>\n",
       "      <th>genus</th>\n",
       "      <th>species</th>\n",
       "      <th>...</th>\n",
       "      <th>recordnumber</th>\n",
       "      <th>identifiedby</th>\n",
       "      <th>license</th>\n",
       "      <th>rightsholder</th>\n",
       "      <th>recordedby</th>\n",
       "      <th>typestatus</th>\n",
       "      <th>establishmentmeans</th>\n",
       "      <th>lastinterpreted</th>\n",
       "      <th>mediatype</th>\n",
       "      <th>issue</th>\n",
       "    </tr>\n",
       "  </thead>\n",
       "  <tbody>\n",
       "    <tr>\n",
       "      <th>560</th>\n",
       "      <td>574651306</td>\n",
       "      <td>bf2a4bf0-5f31-11de-b67e-b8a03c50a862</td>\n",
       "      <td>http://data.rbge.org.uk/herb/E00298021</td>\n",
       "      <td>Plantae</td>\n",
       "      <td>Tracheophyta</td>\n",
       "      <td>Magnoliopsida</td>\n",
       "      <td>Gentianales</td>\n",
       "      <td>Gentianaceae</td>\n",
       "      <td>Gentianella</td>\n",
       "      <td>Gentianella campestris</td>\n",
       "      <td>...</td>\n",
       "      <td>NaN</td>\n",
       "      <td>NaN</td>\n",
       "      <td>NaN</td>\n",
       "      <td>NaN</td>\n",
       "      <td>NaN</td>\n",
       "      <td>NaN</td>\n",
       "      <td>NaN</td>\n",
       "      <td>NaN</td>\n",
       "      <td>NaN</td>\n",
       "      <td>NaN</td>\n",
       "    </tr>\n",
       "    <tr>\n",
       "      <th>561</th>\n",
       "      <td>574650006</td>\n",
       "      <td>bf2a4bf0-5f31-11de-b67e-b8a03c50a862</td>\n",
       "      <td>http://data.rbge.org.uk/herb/E00377934</td>\n",
       "      <td>Plantae</td>\n",
       "      <td>Tracheophyta</td>\n",
       "      <td>Magnoliopsida</td>\n",
       "      <td>Saxifragales</td>\n",
       "      <td>Saxifragaceae</td>\n",
       "      <td>Saxifraga</td>\n",
       "      <td>Saxifraga hypnoides</td>\n",
       "      <td>...</td>\n",
       "      <td>NaN</td>\n",
       "      <td>NaN</td>\n",
       "      <td>NaN</td>\n",
       "      <td>NaN</td>\n",
       "      <td>NaN</td>\n",
       "      <td>NaN</td>\n",
       "      <td>NaN</td>\n",
       "      <td>NaN</td>\n",
       "      <td>NaN</td>\n",
       "      <td>NaN</td>\n",
       "    </tr>\n",
       "    <tr>\n",
       "      <th>562</th>\n",
       "      <td>574650005</td>\n",
       "      <td>bf2a4bf0-5f31-11de-b67e-b8a03c50a862</td>\n",
       "      <td>http://data.rbge.org.uk/herb/E00377933</td>\n",
       "      <td>Plantae</td>\n",
       "      <td>Tracheophyta</td>\n",
       "      <td>Magnoliopsida</td>\n",
       "      <td>Saxifragales</td>\n",
       "      <td>Saxifragaceae</td>\n",
       "      <td>Saxifraga</td>\n",
       "      <td>Saxifraga hypnoides</td>\n",
       "      <td>...</td>\n",
       "      <td>NaN</td>\n",
       "      <td>NaN</td>\n",
       "      <td>NaN</td>\n",
       "      <td>NaN</td>\n",
       "      <td>NaN</td>\n",
       "      <td>NaN</td>\n",
       "      <td>NaN</td>\n",
       "      <td>NaN</td>\n",
       "      <td>NaN</td>\n",
       "      <td>NaN</td>\n",
       "    </tr>\n",
       "    <tr>\n",
       "      <th>563</th>\n",
       "      <td>574649925</td>\n",
       "      <td>bf2a4bf0-5f31-11de-b67e-b8a03c50a862</td>\n",
       "      <td>http://data.rbge.org.uk/herb/E00298412</td>\n",
       "      <td>Plantae</td>\n",
       "      <td>Tracheophyta</td>\n",
       "      <td>Magnoliopsida</td>\n",
       "      <td>Caryophyllales</td>\n",
       "      <td>Caryophyllaceae</td>\n",
       "      <td>Scleranthus</td>\n",
       "      <td>Scleranthus annuus</td>\n",
       "      <td>...</td>\n",
       "      <td>NaN</td>\n",
       "      <td>NaN</td>\n",
       "      <td>CC_BY_NC_4_0</td>\n",
       "      <td>NaN</td>\n",
       "      <td>Terras</td>\n",
       "      <td>NaN</td>\n",
       "      <td>NaN</td>\n",
       "      <td>NaN</td>\n",
       "      <td>NaN</td>\n",
       "      <td>NaN</td>\n",
       "    </tr>\n",
       "    <tr>\n",
       "      <th>564</th>\n",
       "      <td>574646330</td>\n",
       "      <td>bf2a4bf0-5f31-11de-b67e-b8a03c50a862</td>\n",
       "      <td>http://data.rbge.org.uk/herb/E00298655</td>\n",
       "      <td>Plantae</td>\n",
       "      <td>Tracheophyta</td>\n",
       "      <td>Magnoliopsida</td>\n",
       "      <td>Caryophyllales</td>\n",
       "      <td>Caryophyllaceae</td>\n",
       "      <td>Scleranthus</td>\n",
       "      <td>Scleranthus annuus</td>\n",
       "      <td>...</td>\n",
       "      <td>NaN</td>\n",
       "      <td>NaN</td>\n",
       "      <td>NaN</td>\n",
       "      <td>NaN</td>\n",
       "      <td>NaN</td>\n",
       "      <td>NaN</td>\n",
       "      <td>NaN</td>\n",
       "      <td>NaN</td>\n",
       "      <td>NaN</td>\n",
       "      <td>NaN</td>\n",
       "    </tr>\n",
       "  </tbody>\n",
       "</table>\n",
       "<p>5 rows × 44 columns</p>\n",
       "</div>"
      ],
      "text/plain": [
       "        gbifid                            datasetkey  \\\n",
       "560  574651306  bf2a4bf0-5f31-11de-b67e-b8a03c50a862   \n",
       "561  574650006  bf2a4bf0-5f31-11de-b67e-b8a03c50a862   \n",
       "562  574650005  bf2a4bf0-5f31-11de-b67e-b8a03c50a862   \n",
       "563  574649925  bf2a4bf0-5f31-11de-b67e-b8a03c50a862   \n",
       "564  574646330  bf2a4bf0-5f31-11de-b67e-b8a03c50a862   \n",
       "\n",
       "                               occurrenceid  kingdom        phylum  \\\n",
       "560  http://data.rbge.org.uk/herb/E00298021  Plantae  Tracheophyta   \n",
       "561  http://data.rbge.org.uk/herb/E00377934  Plantae  Tracheophyta   \n",
       "562  http://data.rbge.org.uk/herb/E00377933  Plantae  Tracheophyta   \n",
       "563  http://data.rbge.org.uk/herb/E00298412  Plantae  Tracheophyta   \n",
       "564  http://data.rbge.org.uk/herb/E00298655  Plantae  Tracheophyta   \n",
       "\n",
       "             class           order           family        genus  \\\n",
       "560  Magnoliopsida     Gentianales     Gentianaceae  Gentianella   \n",
       "561  Magnoliopsida    Saxifragales    Saxifragaceae    Saxifraga   \n",
       "562  Magnoliopsida    Saxifragales    Saxifragaceae    Saxifraga   \n",
       "563  Magnoliopsida  Caryophyllales  Caryophyllaceae  Scleranthus   \n",
       "564  Magnoliopsida  Caryophyllales  Caryophyllaceae  Scleranthus   \n",
       "\n",
       "                    species  ...   recordnumber identifiedby       license  \\\n",
       "560  Gentianella campestris  ...            NaN          NaN           NaN   \n",
       "561     Saxifraga hypnoides  ...            NaN          NaN           NaN   \n",
       "562     Saxifraga hypnoides  ...            NaN          NaN           NaN   \n",
       "563      Scleranthus annuus  ...            NaN          NaN  CC_BY_NC_4_0   \n",
       "564      Scleranthus annuus  ...            NaN          NaN           NaN   \n",
       "\n",
       "    rightsholder recordedby typestatus  establishmentmeans  lastinterpreted  \\\n",
       "560          NaN        NaN        NaN                 NaN              NaN   \n",
       "561          NaN        NaN        NaN                 NaN              NaN   \n",
       "562          NaN        NaN        NaN                 NaN              NaN   \n",
       "563          NaN     Terras        NaN                 NaN              NaN   \n",
       "564          NaN        NaN        NaN                 NaN              NaN   \n",
       "\n",
       "     mediatype  issue  \n",
       "560        NaN    NaN  \n",
       "561        NaN    NaN  \n",
       "562        NaN    NaN  \n",
       "563        NaN    NaN  \n",
       "564        NaN    NaN  \n",
       "\n",
       "[5 rows x 44 columns]"
      ]
     },
     "execution_count": 10,
     "metadata": {},
     "output_type": "execute_result"
    }
   ],
   "source": [
    "df.tail()"
   ]
  },
  {
   "cell_type": "code",
   "execution_count": 4,
   "metadata": {},
   "outputs": [
    {
     "name": "stdout",
     "output_type": "stream",
     "text": [
      "(565, 44)\n"
     ]
    }
   ],
   "source": [
    "print(df.shape)\n",
    "assert (len(df['gbifid'])) == df.shape[0], \"Each record should have a unique gbifid\""
   ]
  },
  {
   "cell_type": "markdown",
   "metadata": {},
   "source": [
    "Create a dictionary in format { \"name\" : \"parent } (key=name, value=parent),\n",
    "where name is the taxonomic category and parent is name's encompassing category,\n",
    "and then export the dictionary to a .CSV for D3.js tree diagram."
   ]
  },
  {
   "cell_type": "code",
   "execution_count": 5,
   "metadata": {},
   "outputs": [
    {
     "name": "stdout",
     "output_type": "stream",
     "text": [
      "['Plantae']\n",
      "1 Kingdom\n"
     ]
    }
   ],
   "source": [
    "print(df.kingdom.unique())\n",
    "print(str(len(df.kingdom.unique())) + \" Kingdom\")"
   ]
  },
  {
   "cell_type": "code",
   "execution_count": 32,
   "metadata": {},
   "outputs": [
    {
     "name": "stdout",
     "output_type": "stream",
     "text": [
      "['Tracheophyta' 'Bryophyta' 'Marchantiophyta']\n",
      "3 Phyla\n",
      "{'Tracheophyta': 'Plantae', 'Bryophyta': 'Plantae', 'Marchantiophyta': 'Plantae'}\n"
     ]
    }
   ],
   "source": [
    "phylum_list = df.phylum.unique()\n",
    "print(phylum_list)\n",
    "print(str(len(df.phylum.unique())) + \" Phyla\")\n",
    "p_k_dict = {}\n",
    "for p in phylum_list:\n",
    "    p_k_dict[str(p)] = \"Plantae\"\n",
    "print(p_k_dict)\n",
    "for k in p_k_dict:\n",
    "    assert p_k_dict[k] == \"Plantae\", \"The values should all be Plantae\""
   ]
  },
  {
   "cell_type": "code",
   "execution_count": 31,
   "metadata": {},
   "outputs": [
    {
     "name": "stdout",
     "output_type": "stream",
     "text": [
      "['Magnoliopsida' 'Liliopsida' 'Sphagnopsida' 'Jungermanniopsida'\n",
      " 'Bryopsida' 'Polypodiopsida']\n",
      "6 Classes\n",
      "{'Magnoliopsida': 'Tracheophyta', 'Liliopsida': 'Tracheophyta', 'Sphagnopsida': 'Bryophyta', 'Jungermanniopsida': 'Marchantiophyta', 'Bryopsida': 'Bryophyta', 'Polypodiopsida': 'Tracheophyta'}\n"
     ]
    }
   ],
   "source": [
    "class_list = df['class'].unique()\n",
    "print(class_list)\n",
    "print(str(len(df['class'].unique())) + \" Classes\")\n",
    "c_p_dict = {}\n",
    "classes = df['class']\n",
    "phyla = df['phylum']\n",
    "for c, p in zip(classes, phyla):\n",
    "    if c not in c_p_dict:\n",
    "        c_p_dict[str(c)] = str(p)\n",
    "print(c_p_dict)\n",
    "for k in c_p_dict:\n",
    "    assert c_p_dict[k] in phylum_list, \"The values should be a phylum\""
   ]
  },
  {
   "cell_type": "code",
   "execution_count": 37,
   "metadata": {},
   "outputs": [
    {
     "name": "stdout",
     "output_type": "stream",
     "text": [
      "['Saxifragales' 'Ranunculales' 'Ericales' 'Alismatales' 'Poales' 'Lamiales'\n",
      " 'Oxalidales' 'Gentianales' 'Caryophyllales' 'Asparagales' 'Sphagnales'\n",
      " 'Fabales' 'Sapindales' 'Rosales' 'Jungermanniales' 'Polytrichales'\n",
      " 'Polypodiales' 'Apiales' 'Malpighiales' 'Myrtales' 'Laurales'\n",
      " 'Aquifoliales' 'Piperales' 'Malvales' 'Asterales' 'Fagales']\n",
      "26 Orders\n",
      "{'Saxifragales': 'Magnoliopsida', 'Ranunculales': 'Magnoliopsida', 'Ericales': 'Magnoliopsida', 'Alismatales': 'Liliopsida', 'Poales': 'Liliopsida', 'Lamiales': 'Magnoliopsida', 'Oxalidales': 'Magnoliopsida', 'Gentianales': 'Magnoliopsida', 'Caryophyllales': 'Magnoliopsida', 'Asparagales': 'Liliopsida', 'Sphagnales': 'Sphagnopsida', 'Fabales': 'Magnoliopsida', 'Sapindales': 'Magnoliopsida', 'Rosales': 'Magnoliopsida', 'Jungermanniales': 'Jungermanniopsida', 'Polytrichales': 'Bryopsida', 'Polypodiales': 'Polypodiopsida', 'Apiales': 'Magnoliopsida', 'Malpighiales': 'Magnoliopsida', 'Myrtales': 'Magnoliopsida', 'Laurales': 'Magnoliopsida', 'Aquifoliales': 'Magnoliopsida', 'Piperales': 'Magnoliopsida', 'Malvales': 'Magnoliopsida', 'Asterales': 'Magnoliopsida', 'Fagales': 'Magnoliopsida'}\n"
     ]
    }
   ],
   "source": [
    "order_list = df['order'].unique()\n",
    "print(order_list)\n",
    "print(str(len(df['order'].unique())) + \" Orders\")\n",
    "o_c_dict = {}\n",
    "classes = df['class']\n",
    "orders = df['order']\n",
    "for o, c in zip(orders, classes):\n",
    "    if o not in o_c_dict:\n",
    "        o_c_dict[str(o)] = str(c)\n",
    "print(o_c_dict)\n",
    "\n",
    "for k in o_c_dict:\n",
    "    assert o_c_dict[key] in class_list, \"The values should be a class\""
   ]
  },
  {
   "cell_type": "code",
   "execution_count": 45,
   "metadata": {},
   "outputs": [
    {
     "name": "stdout",
     "output_type": "stream",
     "text": [
      "['Saxifragaceae' 'Ranunculaceae' 'Primulaceae' 'Tofieldiaceae' 'Poaceae'\n",
      " 'Lamiaceae' 'Elaeocarpaceae' 'Gentianaceae' 'Caryophyllaceae'\n",
      " 'Orchidaceae' 'Sphagnaceae' 'Fabaceae' 'Sapindaceae' 'Ericaceae'\n",
      " 'Moraceae' 'Scapaniaceae' 'Sapotaceae' 'Polytrichaceae' 'Apocynaceae'\n",
      " 'Aspleniaceae' 'Apiaceae' 'Salicaceae' 'Loganiaceae' 'Melastomataceae'\n",
      " 'Myrtaceae' 'Pentaphylacaceae' 'Lauraceae' 'Aquifoliaceae' 'Euphorbiaceae'\n",
      " 'Pteridaceae' 'Piperaceae' 'Araliaceae' 'Meliaceae' 'Cephaloziaceae'\n",
      " 'Dipterocarpaceae' 'Asteraceae' 'Fagaceae']\n",
      "37 Families\n",
      "{'Saxifragaceae': 'Saxifragales', 'Ranunculaceae': 'Ranunculales', 'Primulaceae': 'Ericales', 'Tofieldiaceae': 'Alismatales', 'Poaceae': 'Poales', 'Lamiaceae': 'Lamiales', 'Elaeocarpaceae': 'Oxalidales', 'Gentianaceae': 'Gentianales', 'Caryophyllaceae': 'Caryophyllales', 'Orchidaceae': 'Asparagales', 'Sphagnaceae': 'Sphagnales', 'Fabaceae': 'Fabales', 'Sapindaceae': 'Sapindales', 'Ericaceae': 'Ericales', 'Moraceae': 'Rosales', 'Scapaniaceae': 'Jungermanniales', 'Sapotaceae': 'Ericales', 'Polytrichaceae': 'Polytrichales', 'Apocynaceae': 'Gentianales', 'Aspleniaceae': 'Polypodiales', 'Apiaceae': 'Apiales', 'Salicaceae': 'Malpighiales', 'Loganiaceae': 'Gentianales', 'Melastomataceae': 'Myrtales', 'Myrtaceae': 'Myrtales', 'Pentaphylacaceae': 'Ericales', 'Lauraceae': 'Laurales', 'Aquifoliaceae': 'Aquifoliales', 'Euphorbiaceae': 'Malpighiales', 'Pteridaceae': 'Polypodiales', 'Piperaceae': 'Piperales', 'Araliaceae': 'Apiales', 'Meliaceae': 'Sapindales', 'Cephaloziaceae': 'Jungermanniales', 'Dipterocarpaceae': 'Malvales', 'Asteraceae': 'Asterales', 'Fagaceae': 'Fagales'}\n"
     ]
    }
   ],
   "source": [
    "family_list = df['family'].unique()\n",
    "print(family_list)\n",
    "print(str(len(df['family'].unique())) + \" Families\")\n",
    "f_o_dict = {}\n",
    "families = df['family']\n",
    "orders = df['order']\n",
    "for f, o in zip(families, orders):\n",
    "    if f not in f_o_dict:\n",
    "        f_o_dict[str(f)] = str(o)\n",
    "print(f_o_dict)\n",
    "for k in f_o_dict:\n",
    "    assert f_o_dict[k] in order_list"
   ]
  },
  {
   "cell_type": "code",
   "execution_count": 54,
   "metadata": {},
   "outputs": [
    {
     "name": "stdout",
     "output_type": "stream",
     "text": [
      "['Micranthes' 'Caltha' 'Anemone' 'Saxifraga' 'Helleborus' 'Primula'\n",
      " 'Tofieldia' 'Clematis' 'Themeda' 'Anisomeles' 'Elaeocarpus' 'Gentianella'\n",
      " 'Stellaria' 'Ophrys' 'Sphagnum' 'Astragalus' 'Cupaniopsis' 'Conandrium'\n",
      " 'Scleranthus' 'Lotus' 'Hypopitys' 'Parartocarpus' 'Pyrola' 'Scapania'\n",
      " 'Planchonella' 'Polytrichum' 'Marsdenia' 'Asplenium' 'Ferulago' 'Casearia'\n",
      " 'Strychnos' 'Hymenasplenium' 'Creochiton' 'Syzygium' 'Adinandra'\n",
      " 'Cryptocarya' 'Pleurospermum' 'Ilex' 'Astronia' 'Cinnamomum' 'Macaranga'\n",
      " 'Lindsayomyrtus' 'Ochrosia' 'Adiantum' 'Ficus' 'Fagraea' 'Sloanea' 'Piper'\n",
      " 'Polyscias' 'Acalypha' 'Dysoxylum' 'Cephalozia' 'Silene' 'Anisoptera' nan\n",
      " 'Lithocarpus' 'Rhododendron' 'Endiandra']\n",
      "58 Genuses\n",
      "{'Micranthes': 'Saxifragaceae', 'Caltha': 'Ranunculaceae', 'Anemone': 'Ranunculaceae', 'Saxifraga': 'Saxifragaceae', 'Helleborus': 'Ranunculaceae', 'Primula': 'Primulaceae', 'Tofieldia': 'Tofieldiaceae', 'Clematis': 'Ranunculaceae', 'Themeda': 'Poaceae', 'Anisomeles': 'Lamiaceae', 'Elaeocarpus': 'Elaeocarpaceae', 'Gentianella': 'Gentianaceae', 'Stellaria': 'Caryophyllaceae', 'Ophrys': 'Orchidaceae', 'Sphagnum': 'Sphagnaceae', 'Astragalus': 'Fabaceae', 'Cupaniopsis': 'Sapindaceae', 'Conandrium': 'Primulaceae', 'Scleranthus': 'Caryophyllaceae', 'Lotus': 'Fabaceae', 'Hypopitys': 'Ericaceae', 'Parartocarpus': 'Moraceae', 'Pyrola': 'Ericaceae', 'Scapania': 'Scapaniaceae', 'Planchonella': 'Sapotaceae', 'Polytrichum': 'Polytrichaceae', 'Marsdenia': 'Apocynaceae', 'Asplenium': 'Aspleniaceae', 'Ferulago': 'Apiaceae', 'Casearia': 'Salicaceae', 'Strychnos': 'Loganiaceae', 'Hymenasplenium': 'Aspleniaceae', 'Creochiton': 'Melastomataceae', 'Syzygium': 'Myrtaceae', 'Adinandra': 'Pentaphylacaceae', 'Cryptocarya': 'Lauraceae', 'Pleurospermum': 'Apiaceae', 'Ilex': 'Aquifoliaceae', 'Astronia': 'Melastomataceae', 'Cinnamomum': 'Lauraceae', 'Macaranga': 'Euphorbiaceae', 'Lindsayomyrtus': 'Myrtaceae', 'Ochrosia': 'Apocynaceae', 'Adiantum': 'Pteridaceae', 'Ficus': 'Moraceae', 'Fagraea': 'Gentianaceae', 'Sloanea': 'Elaeocarpaceae', 'Piper': 'Piperaceae', 'Polyscias': 'Araliaceae', 'Acalypha': 'Euphorbiaceae', 'Dysoxylum': 'Meliaceae', 'Cephalozia': 'Cephaloziaceae', 'Silene': 'Caryophyllaceae', 'Anisoptera': 'Dipterocarpaceae', 'nan': 'Asteraceae', 'Lithocarpus': 'Fagaceae', 'Rhododendron': 'Ericaceae', 'Endiandra': 'Lauraceae'}\n"
     ]
    }
   ],
   "source": [
    "genus_list = df['genus'].unique()\n",
    "print(genus_list)\n",
    "print(str(len(df['genus'].unique())) + \" Genuses\")\n",
    "g_f_dict = {}\n",
    "families = df['family']\n",
    "genera = df['genus']\n",
    "for g, f in zip(genera, families):\n",
    "    if g not in g_f_dict:\n",
    "        g_f_dict[str(g)] = str(f)\n",
    "print(g_f_dict)\n",
    "for k in g_f_dict:\n",
    "    assert g_f_dict[k] in family_list, \"The values should be a family\""
   ]
  },
  {
   "cell_type": "markdown",
   "metadata": {},
   "source": [
    "replacing 'nan' with 'Unknown'"
   ]
  },
  {
   "cell_type": "code",
   "execution_count": 55,
   "metadata": {},
   "outputs": [
    {
     "name": "stdout",
     "output_type": "stream",
     "text": [
      "{'Micranthes': 'Saxifragaceae', 'Caltha': 'Ranunculaceae', 'Anemone': 'Ranunculaceae', 'Saxifraga': 'Saxifragaceae', 'Helleborus': 'Ranunculaceae', 'Primula': 'Primulaceae', 'Tofieldia': 'Tofieldiaceae', 'Clematis': 'Ranunculaceae', 'Themeda': 'Poaceae', 'Anisomeles': 'Lamiaceae', 'Elaeocarpus': 'Elaeocarpaceae', 'Gentianella': 'Gentianaceae', 'Stellaria': 'Caryophyllaceae', 'Ophrys': 'Orchidaceae', 'Sphagnum': 'Sphagnaceae', 'Astragalus': 'Fabaceae', 'Cupaniopsis': 'Sapindaceae', 'Conandrium': 'Primulaceae', 'Scleranthus': 'Caryophyllaceae', 'Lotus': 'Fabaceae', 'Hypopitys': 'Ericaceae', 'Parartocarpus': 'Moraceae', 'Pyrola': 'Ericaceae', 'Scapania': 'Scapaniaceae', 'Planchonella': 'Sapotaceae', 'Polytrichum': 'Polytrichaceae', 'Marsdenia': 'Apocynaceae', 'Asplenium': 'Aspleniaceae', 'Ferulago': 'Apiaceae', 'Casearia': 'Salicaceae', 'Strychnos': 'Loganiaceae', 'Hymenasplenium': 'Aspleniaceae', 'Creochiton': 'Melastomataceae', 'Syzygium': 'Myrtaceae', 'Adinandra': 'Pentaphylacaceae', 'Cryptocarya': 'Lauraceae', 'Pleurospermum': 'Apiaceae', 'Ilex': 'Aquifoliaceae', 'Astronia': 'Melastomataceae', 'Cinnamomum': 'Lauraceae', 'Macaranga': 'Euphorbiaceae', 'Lindsayomyrtus': 'Myrtaceae', 'Ochrosia': 'Apocynaceae', 'Adiantum': 'Pteridaceae', 'Ficus': 'Moraceae', 'Fagraea': 'Gentianaceae', 'Sloanea': 'Elaeocarpaceae', 'Piper': 'Piperaceae', 'Polyscias': 'Araliaceae', 'Acalypha': 'Euphorbiaceae', 'Dysoxylum': 'Meliaceae', 'Cephalozia': 'Cephaloziaceae', 'Silene': 'Caryophyllaceae', 'Anisoptera': 'Dipterocarpaceae', 'Lithocarpus': 'Fagaceae', 'Rhododendron': 'Ericaceae', 'Endiandra': 'Lauraceae', 'Unknown': 'Asteraceae'}\n"
     ]
    }
   ],
   "source": [
    "for k in g_f_dict:\n",
    "    if k == 'nan':\n",
    "        g_f_dict['Unknown'] = g_f_dict.pop(k)\n",
    "print(g_f_dict)"
   ]
  },
  {
   "cell_type": "code",
   "execution_count": 58,
   "metadata": {},
   "outputs": [
    {
     "name": "stdout",
     "output_type": "stream",
     "text": [
      "['Micranthes engleri' 'Micranthes stellaris' 'Caltha palustris'\n",
      " 'Anemone nemorosa' 'Saxifraga aizoides' 'Helleborus viridis'\n",
      " 'Primula acaulis' 'Tofieldia pusilla' 'Clematis smilacifolia'\n",
      " 'Clematis graveolens' 'Themeda quadrivalvis' 'Themeda triandra'\n",
      " 'Themeda anathera' 'Themeda arguens' 'Clematis grata' 'Anisomeles indica'\n",
      " 'Anisomeles malabarica' 'Elaeocarpus culminicola' 'Gentianella campestris'\n",
      " 'Stellaria palustris' 'Ophrys sphegodes' 'Sphagnum palustre'\n",
      " 'Saxifraga hypnoides' 'Astragalus danicus' 'Cupaniopsis curvidens'\n",
      " 'Conandrium polyanthum' 'Scleranthus annuus' 'Lotus gebelia'\n",
      " 'Hypopitys monotropa' 'Parartocarpus venenosa' 'Pyrola media'\n",
      " 'Scapania gracilis' 'Planchonella forbesii' 'Sphagnum papillosum'\n",
      " 'Polytrichum jensenii' 'Marsdenia lorea' 'Asplenium trichomanes'\n",
      " 'Ferulago trachycarpa' 'Casearia grewiifolia' 'Strychnos colubrina'\n",
      " 'Hymenasplenium unilaterale' 'Creochiton novoguineensis'\n",
      " 'Syzygium fastigiatum' 'Adinandra forbesii' 'Cryptocarya myrcioides'\n",
      " 'Pleurospermum candollei' 'Ilex forbesii' 'Astronia arborea'\n",
      " 'Cinnamomum bejolghota' 'Macaranga polyadenia' 'Asplenium auriculatum'\n",
      " 'Lindsayomyrtus racemoides' 'Ochrosia ficifolia' 'Adiantum edgeworthii'\n",
      " 'Ficus rhizophoriphylla' 'Ficus trachypison' 'Fagraea gracilipes'\n",
      " 'Sloanea sogerensis' 'Asplenium cristatum' 'Asplenium sarelii'\n",
      " 'Piper obesispicum' 'Polyscias ledermannii' 'Sphagnum capillifolium'\n",
      " 'Acalypha longispica' 'Dysoxylum variabile' 'Macaranga involucrata'\n",
      " 'Cephalozia affinis' 'Ficus edelfeltii' 'Asplenium ensiforme'\n",
      " 'Ficus casearioides' 'Adiantum terminatum' 'Silene tibetica'\n",
      " 'Adiantum philippense' 'Anisoptera thurifera' nan 'Lithocarpus sogerensis'\n",
      " 'Syzygium sogerense' 'Rhododendron principis' 'Endiandra forbesii'\n",
      " 'Ficus pantoniana']\n",
      "80 Species\n",
      "{'Micranthes engleri': 'Micranthes', 'Micranthes stellaris': 'Micranthes', 'Caltha palustris': 'Caltha', 'Anemone nemorosa': 'Anemone', 'Saxifraga aizoides': 'Saxifraga', 'Helleborus viridis': 'Helleborus', 'Primula acaulis': 'Primula', 'Tofieldia pusilla': 'Tofieldia', 'Clematis smilacifolia': 'Clematis', 'Clematis graveolens': 'Clematis', 'Themeda quadrivalvis': 'Themeda', 'Themeda triandra': 'Themeda', 'Themeda anathera': 'Themeda', 'Themeda arguens': 'Themeda', 'Clematis grata': 'Clematis', 'Anisomeles indica': 'Anisomeles', 'Anisomeles malabarica': 'Anisomeles', 'Elaeocarpus culminicola': 'Elaeocarpus', 'Gentianella campestris': 'Gentianella', 'Stellaria palustris': 'Stellaria', 'Ophrys sphegodes': 'Ophrys', 'Sphagnum palustre': 'Sphagnum', 'Saxifraga hypnoides': 'Saxifraga', 'Astragalus danicus': 'Astragalus', 'Cupaniopsis curvidens': 'Cupaniopsis', 'Conandrium polyanthum': 'Conandrium', 'Scleranthus annuus': 'Scleranthus', 'Lotus gebelia': 'Lotus', 'Hypopitys monotropa': 'Hypopitys', 'Parartocarpus venenosa': 'Parartocarpus', 'Pyrola media': 'Pyrola', 'Scapania gracilis': 'Scapania', 'Planchonella forbesii': 'Planchonella', 'Sphagnum papillosum': 'Sphagnum', 'Polytrichum jensenii': 'Polytrichum', 'Marsdenia lorea': 'Marsdenia', 'Asplenium trichomanes': 'Asplenium', 'Ferulago trachycarpa': 'Ferulago', 'Casearia grewiifolia': 'Casearia', 'Strychnos colubrina': 'Strychnos', 'Hymenasplenium unilaterale': 'Hymenasplenium', 'Creochiton novoguineensis': 'Creochiton', 'Syzygium fastigiatum': 'Syzygium', 'Adinandra forbesii': 'Adinandra', 'Cryptocarya myrcioides': 'Cryptocarya', 'Pleurospermum candollei': 'Pleurospermum', 'Ilex forbesii': 'Ilex', 'Astronia arborea': 'Astronia', 'Cinnamomum bejolghota': 'Cinnamomum', 'Macaranga polyadenia': 'Macaranga', 'Asplenium auriculatum': 'Asplenium', 'Lindsayomyrtus racemoides': 'Lindsayomyrtus', 'Ochrosia ficifolia': 'Ochrosia', 'Adiantum edgeworthii': 'Adiantum', 'Ficus rhizophoriphylla': 'Ficus', 'Ficus trachypison': 'Ficus', 'Fagraea gracilipes': 'Fagraea', 'Sloanea sogerensis': 'Sloanea', 'Asplenium cristatum': 'Asplenium', 'Asplenium sarelii': 'Asplenium', 'Piper obesispicum': 'Piper', 'Polyscias ledermannii': 'Polyscias', 'Sphagnum capillifolium': 'Sphagnum', 'Acalypha longispica': 'Acalypha', 'Dysoxylum variabile': 'Dysoxylum', 'Macaranga involucrata': 'Macaranga', 'Cephalozia affinis': 'Cephalozia', 'Ficus edelfeltii': 'Ficus', 'Asplenium ensiforme': 'Asplenium', 'Ficus casearioides': 'Ficus', 'Adiantum terminatum': 'Adiantum', 'Silene tibetica': 'Silene', 'Adiantum philippense': 'Adiantum', 'Anisoptera thurifera': 'Anisoptera', 'nan': 'nan', 'Lithocarpus sogerensis': 'Lithocarpus', 'Syzygium sogerense': 'Syzygium', 'Rhododendron principis': 'Rhododendron', 'Endiandra forbesii': 'Endiandra', 'Ficus pantoniana': 'Ficus'}\n"
     ]
    },
    {
     "ename": "AssertionError",
     "evalue": "The value for nan should be a genus",
     "output_type": "error",
     "traceback": [
      "\u001b[0;31m---------------------------------------------------------------------------\u001b[0m",
      "\u001b[0;31mAssertionError\u001b[0m                            Traceback (most recent call last)",
      "\u001b[0;32m<ipython-input-58-b28ea60a94d5>\u001b[0m in \u001b[0;36m<module>\u001b[0;34m()\u001b[0m\n\u001b[1;32m     10\u001b[0m \u001b[0mprint\u001b[0m\u001b[0;34m(\u001b[0m\u001b[0ms_g_dict\u001b[0m\u001b[0;34m)\u001b[0m\u001b[0;34m\u001b[0m\u001b[0m\n\u001b[1;32m     11\u001b[0m \u001b[0;32mfor\u001b[0m \u001b[0mk\u001b[0m \u001b[0;32min\u001b[0m \u001b[0ms_g_dict\u001b[0m\u001b[0;34m:\u001b[0m\u001b[0;34m\u001b[0m\u001b[0m\n\u001b[0;32m---> 12\u001b[0;31m     \u001b[0;32massert\u001b[0m \u001b[0ms_g_dict\u001b[0m\u001b[0;34m[\u001b[0m\u001b[0mk\u001b[0m\u001b[0;34m]\u001b[0m \u001b[0;32min\u001b[0m \u001b[0mgenus_list\u001b[0m\u001b[0;34m,\u001b[0m \u001b[0;34m\"The value for \"\u001b[0m \u001b[0;34m+\u001b[0m \u001b[0mk\u001b[0m \u001b[0;34m+\u001b[0m \u001b[0;34m\" should be a genus\"\u001b[0m\u001b[0;34m\u001b[0m\u001b[0m\n\u001b[0m",
      "\u001b[0;31mAssertionError\u001b[0m: The value for nan should be a genus"
     ]
    }
   ],
   "source": [
    "species_list = df['species'].unique()\n",
    "print(species_list)\n",
    "print(str(len(df['species'].unique())) + \" Species\")\n",
    "s_g_dict = {}\n",
    "species = df['species']\n",
    "genera = df['genus']\n",
    "for s, g in zip(species, genera):\n",
    "    if s not in s_g_dict:\n",
    "        s_g_dict[str(s)] = str(g)\n",
    "print(s_g_dict)\n",
    "for k in s_g_dict:\n",
    "    assert s_g_dict[k] in genus_list, \"The value for \" + k + \" should be a genus\""
   ]
  },
  {
   "cell_type": "code",
   "execution_count": 59,
   "metadata": {},
   "outputs": [
    {
     "name": "stdout",
     "output_type": "stream",
     "text": [
      "{'Micranthes engleri': 'Micranthes', 'Micranthes stellaris': 'Micranthes', 'Caltha palustris': 'Caltha', 'Anemone nemorosa': 'Anemone', 'Saxifraga aizoides': 'Saxifraga', 'Helleborus viridis': 'Helleborus', 'Primula acaulis': 'Primula', 'Tofieldia pusilla': 'Tofieldia', 'Clematis smilacifolia': 'Clematis', 'Clematis graveolens': 'Clematis', 'Themeda quadrivalvis': 'Themeda', 'Themeda triandra': 'Themeda', 'Themeda anathera': 'Themeda', 'Themeda arguens': 'Themeda', 'Clematis grata': 'Clematis', 'Anisomeles indica': 'Anisomeles', 'Anisomeles malabarica': 'Anisomeles', 'Elaeocarpus culminicola': 'Elaeocarpus', 'Gentianella campestris': 'Gentianella', 'Stellaria palustris': 'Stellaria', 'Ophrys sphegodes': 'Ophrys', 'Sphagnum palustre': 'Sphagnum', 'Saxifraga hypnoides': 'Saxifraga', 'Astragalus danicus': 'Astragalus', 'Cupaniopsis curvidens': 'Cupaniopsis', 'Conandrium polyanthum': 'Conandrium', 'Scleranthus annuus': 'Scleranthus', 'Lotus gebelia': 'Lotus', 'Hypopitys monotropa': 'Hypopitys', 'Parartocarpus venenosa': 'Parartocarpus', 'Pyrola media': 'Pyrola', 'Scapania gracilis': 'Scapania', 'Planchonella forbesii': 'Planchonella', 'Sphagnum papillosum': 'Sphagnum', 'Polytrichum jensenii': 'Polytrichum', 'Marsdenia lorea': 'Marsdenia', 'Asplenium trichomanes': 'Asplenium', 'Ferulago trachycarpa': 'Ferulago', 'Casearia grewiifolia': 'Casearia', 'Strychnos colubrina': 'Strychnos', 'Hymenasplenium unilaterale': 'Hymenasplenium', 'Creochiton novoguineensis': 'Creochiton', 'Syzygium fastigiatum': 'Syzygium', 'Adinandra forbesii': 'Adinandra', 'Cryptocarya myrcioides': 'Cryptocarya', 'Pleurospermum candollei': 'Pleurospermum', 'Ilex forbesii': 'Ilex', 'Astronia arborea': 'Astronia', 'Cinnamomum bejolghota': 'Cinnamomum', 'Macaranga polyadenia': 'Macaranga', 'Asplenium auriculatum': 'Asplenium', 'Lindsayomyrtus racemoides': 'Lindsayomyrtus', 'Ochrosia ficifolia': 'Ochrosia', 'Adiantum edgeworthii': 'Adiantum', 'Ficus rhizophoriphylla': 'Ficus', 'Ficus trachypison': 'Ficus', 'Fagraea gracilipes': 'Fagraea', 'Sloanea sogerensis': 'Sloanea', 'Asplenium cristatum': 'Asplenium', 'Asplenium sarelii': 'Asplenium', 'Piper obesispicum': 'Piper', 'Polyscias ledermannii': 'Polyscias', 'Sphagnum capillifolium': 'Sphagnum', 'Acalypha longispica': 'Acalypha', 'Dysoxylum variabile': 'Dysoxylum', 'Macaranga involucrata': 'Macaranga', 'Cephalozia affinis': 'Cephalozia', 'Ficus edelfeltii': 'Ficus', 'Asplenium ensiforme': 'Asplenium', 'Ficus casearioides': 'Ficus', 'Adiantum terminatum': 'Adiantum', 'Silene tibetica': 'Silene', 'Adiantum philippense': 'Adiantum', 'Anisoptera thurifera': 'Anisoptera', 'Lithocarpus sogerensis': 'Lithocarpus', 'Syzygium sogerense': 'Syzygium', 'Rhododendron principis': 'Rhododendron', 'Endiandra forbesii': 'Endiandra', 'Ficus pantoniana': 'Ficus', 'Unknown': 'Unknown'}\n"
     ]
    }
   ],
   "source": [
    "for k in s_g_dict:\n",
    "    if s_g_dict[k] == 'nan':\n",
    "        s_g_dict[k] = \"Unknown\"\n",
    "    if k == 'nan':\n",
    "        s_g_dict['Unknown'] = s_g_dict.pop(k)\n",
    "print(s_g_dict)"
   ]
  },
  {
   "cell_type": "markdown",
   "metadata": {},
   "source": [
    "# Export CSV for tree diagram of plant taxonomy"
   ]
  },
  {
   "cell_type": "code",
   "execution_count": 70,
   "metadata": {
    "collapsed": true
   },
   "outputs": [],
   "source": [
    "#https://stackoverflow.com/questions/10373247/how-do-i-write-a-python-dictionary-to-a-csv-file\n",
    "import csv\n",
    "with open('taxonomy.csv', 'wt') as csvfile:\n",
    "    w = csv.writer(csvfile)\n",
    "    w.writerows(p_k_dict.items())\n",
    "    w.writerows(c_p_dict.items())\n",
    "    w.writerows(o_c_dict.items())\n",
    "    w.writerows(f_o_dict.items())\n",
    "    w.writerows(g_f_dict.items())\n",
    "    w.writerows(s_g_dict.items())\n",
    "    "
   ]
  },
  {
   "cell_type": "code",
   "execution_count": 67,
   "metadata": {},
   "outputs": [
    {
     "name": "stdout",
     "output_type": "stream",
     "text": [
      "Index(['gbifid', 'datasetkey', 'occurrenceid', 'kingdom', 'phylum', 'class',\n",
      "       'order', 'family', 'genus', 'species', 'infraspecificepithet',\n",
      "       'taxonrank', 'scientificname', 'countrycode', 'locality',\n",
      "       'publishingorgkey', 'decimallatitude', 'decimallongitude',\n",
      "       'coordinateuncertaintyinmeters', 'coordinateprecision', 'elevation',\n",
      "       'elevationaccuracy', 'depth', 'depthaccuracy', 'eventdate', 'day',\n",
      "       'month', 'year', 'taxonkey', 'specieskey', 'basisofrecord',\n",
      "       'institutioncode', 'collectioncode', 'catalognumber', 'recordnumber',\n",
      "       'identifiedby', 'license', 'rightsholder', 'recordedby', 'typestatus',\n",
      "       'establishmentmeans', 'lastinterpreted', 'mediatype', 'issue'],\n",
      "      dtype='object')\n"
     ]
    }
   ],
   "source": [
    "print(df.columns)"
   ]
  },
  {
   "cell_type": "markdown",
   "metadata": {},
   "source": [
    "QUESTIONS\n",
    "\n",
    "Who is a 'rightsholder'?\n",
    "\n",
    "What does it mean to have (or not have) a 'license'?\n",
    "\n",
    "What does 'establishmentmeans' indicate?\n",
    "\n",
    "Who determined the location coordinates and precision accuracy?\n",
    "\n",
    "What does 'basisofrecord' mean?\n",
    "\n",
    "What is 'typestatus'?\n",
    "\n",
    "What does 'lastinterpreted' record?\n",
    "\n",
    "What does 'mediatype' record?\n",
    "\n",
    "What does 'issue' record?\n",
    "\n",
    "Is 'eventdate' the date a plant was witnessesed or received by RBGE?\n",
    "\n",
    "What is an 'infraspecificepithet'?\n",
    "\n",
    "What is a 'taxonrank'?\n",
    "\n",
    "Is the 'publishingorgkey' associated with RBGE?"
   ]
  },
  {
   "cell_type": "code",
   "execution_count": 12,
   "metadata": {},
   "outputs": [
    {
     "name": "stdout",
     "output_type": "stream",
     "text": [
      "['foot of Ben Lawers' 'Helvellyn' 'Glen Dole'\n",
      " 'stream in Glen Cairn [carim?]' 'Ben Lawers' 'west of Killin Station'\n",
      " 'Ben Voirlich' '200 yards from the junction of Yorkshire' 'Lochnagar'\n",
      " 'Benmore' 'Ben Ledi' 'Arran' 'Snowdon' 'Lachin y Gair [Lochnagar]'\n",
      " 'Cader Idnis' 'Ben Leugh [Ben Laoigh?]' 'Ben Nevis' 'near Loch Brandy'\n",
      " 'Meal da greihdy [Meall na Graidhe]' 'Glen Phee [Fee]'\n",
      " 'Ben-y-muick-dhui [Ben Macdui]' 'Glen Callater' 'Ben Lomond' 'Glen Rosa'\n",
      " 'Teesdale' 'Banffshire' 'Summit of Ben Lawers' 'mountains of Clova'\n",
      " 'Glen Croe between Loch Awe & Loch Lomond. near Rest and be Thankful.' nan\n",
      " 'Glen Lochy' 'Dollar Law' 'Ochil' 'Glen Candlich - Callater' 'Braeriach'\n",
      " 'North wales' 'mountains near Llanberis' 'Glencoe' 'Skye' 'The Cheviot'\n",
      " 'The Ochils' 'Nant Francon' 'Deny-bneathia[?]' 'Deryvoneathia[?!?]'\n",
      " 'Moel Shabadd [Moel Siabod]' 'Delphi' 'Ben MacDhui' 'Moffat' 'Ben Alder'\n",
      " 'near Darlington' 'Raby Park [Raby Castle]' \"King's Caple\" 'Glen Beg'\n",
      " 'Torc Mountain' 'Balquhidder' 'Kew Moat' 'Micklefell' 'Hazelrigg'\n",
      " 'Ben Vorlich' 'Belford' 'Clova' 'from Newbattle Woods'\n",
      " 'Breich Water [stream]' 'Alvah woods' 'near Coniscliff' 'Pentland Hills'\n",
      " 'Balerno. Bks of ? [Banks of Burn?]'\n",
      " 'North bank of Gladhouse reservoir at the Moorfoot Hills' 'Roslin'\n",
      " 'Clova mountains' 'sands of Barry' 'Newbattle Woods' 'near Bath'\n",
      " 'Corstorphine' 'Hampstead Heath' 'Ben Avon' 'Colington Woods'\n",
      " 'Helensburgh' 'near Ryde' 'Henbury' 'Balmullo' 'Duddingston Loch'\n",
      " 'found near Colinton' 'Banks of the Orchay' 'Orphir' 'near Balquhidder'\n",
      " 'St Germains [loch?]' 'marsh near Aberdour harbour'\n",
      " 'Auchtertool Linn [pool?]' 'Colinton' 'Alt na Breaclaich' 'near Glasgow'\n",
      " 'Linlithgow' 'from the Esk side [banks of the River Esk?]' 'Orkney'\n",
      " 'Ditcham Woods. Hants' 'Elginshire [Moray]'\n",
      " 'in the glen running southward from the highest peak of the Craig Chailliach range. Killin.'\n",
      " 'Ditcham Woods' 'near Edin [Edinburgh?]' 'Breeina'\n",
      " 'hill near Lochearnhead' 'Glen of the Whitewater'\n",
      " 'on ascent from Kinlochewe to Achnasheen' 'Durris' 'Inveraray'\n",
      " 'Hatherleigh' 'banks of Loch Lomond' 'Widdybank Fell'\n",
      " 'Craig-Cailleach [Creag na Caillich]' 'Garelochead' 'Leigh Woods'\n",
      " 'Moncton Farleigh' 'Place Fell' 'Coton' 'Bute' 'Glen Phie [Corrie Fee]'\n",
      " 'Keswick' 'Bix' 'Cliff Wood' 'on mountains of Clova' 'Ben Lui' 'Hoy'\n",
      " 'St Kilda' 'Widdybank fell'\n",
      " 'from the banks of the Tay and near Bothwick Castle [co-ords for the castle]'\n",
      " 'Grangemuir' 'Tunstall Hope' 'Morton wood near Aberdour' 'Glenogle'\n",
      " 'Glen Coe' 'Mull of Kintyre[?]' 'Ayr' 'Glen Doll' 'Wicklow' 'Holly Park'\n",
      " 'stream in Red Tarn' 'Cardross' \"Curtis's garden\" 'rocks at the OC[?]'\n",
      " 'Leigh woods' 'Weston mill' 'Dalmally' 'Castleton of Braemar'\n",
      " 'Banks of the Tyne' 'Hopetown Woods' 'Colinton Woods' 'Meopham' 'Ballater'\n",
      " 'Roslyn [Roslin]' 'Queensferry' 'Gourock' 'Lochy [Lochy Water]'\n",
      " 'Cambridgeshire' 'Island of Hoy' 'Buttermere'\n",
      " 'Little Craigandal [Creag an Dail Bheag]' 'Letcombe Basset'\n",
      " 'Craig Challiach [Creag na Caillich]' 'Kirkcaldy' 'South Widdy Bank'\n",
      " 'Craig Chailleach [Creag na Caillich]' 'west of Loch Lubnaig'\n",
      " 'marsh near Clova' 'Little Craigindahl [Creag an Dail Bheag]'\n",
      " 'Breadalbane Mountains' 'Mael [meall?]Gouchlar' 'Middleton in Teesdale'\n",
      " 'Glen Muick' 'Cronkley fell' 'Glen Lui' 'Ben Lawer' 'Glen Lochlay'\n",
      " 'Glen Lochay' 'Ben Lui (Lawers)' 'Killin Mountains' 'Cronkley Fell'\n",
      " 'Mael Gouchlar [Meall Goblach?]' 'Callander' 'Glen Isla'\n",
      " 'from the low ground on the ascent to Ben Lawers'\n",
      " 'Meall Dhuin Craig [Croisg] (mountain)' 'Cairngorm Mountains [VC 92-96]'\n",
      " 'Sispara Ghat' 'Paori' 'Curepipe' 'Bashar. Rarang' 'Raiang'\n",
      " 'In pradensis apricis montosis prope Bone ad basim montis Djebel Edough secus viam'\n",
      " 'Simla' 'Bashar Poari' 'Yokohama' 'Sydney' 'Werribee' 'Maneroo'\n",
      " 'Frankston' 'Ringwood' 'Maneroo plains' 'Uiki[?] to Sairi' 'Kamru'\n",
      " 'Ootacamund' 'San Thome' 'Sogeri Region'\n",
      " 'in a ditch that runs from the farmhouse call Haltown' 'Lynedale'\n",
      " '[Edinburgh]' 'Beach and chalk hills between Walmer and Dover' 'Seaton'\n",
      " 'Sogeri region' 'Lindean pebbles' 'Fenton Tower'\n",
      " 'at the foot of the Bingol mountains to Gumgum' 'Winchburgh'\n",
      " 'Cawdor Woods' 'Tollcross' '[Pentland Hills]' 'near Kincardine.'\n",
      " 'Port Jackson' 'on rocks below Caldron Snout [Cauldron Snout]' 'Killean'\n",
      " 'Port Lincoln' 'Hib Killarney' 'Killin' 'Glen Dole (Glen Doll) '\n",
      " 'Banks of Basingstoke Canal nr Woking' 'Near North Berwick' 'Sogeri'\n",
      " 'Agpalisirorfik' 'North side of Loch Voil'\n",
      " '[Da_ys] gorge nr. Sprinkling Tarn' 'Eton' 'Edinburgh' 'Glen of Quiech'\n",
      " 'Blairgowrie' 'In monte Kierki' '[Creag na Caillich] Craig Cailleach'\n",
      " 'Pitlochry' 'Sands of Barry' 'West Lomond' 'Auchertool. Camilla ruins'\n",
      " 'Gosford Links' 'Stridden Edge [Striding Edge]' 'Glen Mill'\n",
      " 'Dartford Brent' 'Bayston Hill' 'Ferry Hills' 'near Halnaby Hall'\n",
      " 'Near Dollar' 'Soregi Region' 'Blair Athole' 'Cawdor woods' '[Edinburgh'\n",
      " 'Settle' 'W [of] Walmer Castle' 'Near Hartlip' 'Capelaw'\n",
      " 'Pofsil Marsh. Near Glasgow' 'Cardenden' 'N Berwick' 'Coldingham Cliff'\n",
      " 'Banks and hills near Rainham' 'Harlow hill' 'Strathtay' 'Glen Falloch'\n",
      " 'Near Halnaby Hall' ' Lough-Bray' 'Field near Braid Hills'\n",
      " 'Cliffs at North Queensferry' 'near Aberlady' 'Queendown Warren'\n",
      " 'Bords du Guzel-Dere' 'Braemar' 'W of Walmer Castle' 'Glen Phee'\n",
      " 'Burenda Pass' 'Ravelrig [illeg.]' 'Sorgeri region' 'Ben More' 'Rani Camp'\n",
      " 'Tentsmuir' 'Nr Doune' 'Port Royal Mountains' 'Las cuevas'\n",
      " 'Aberlady Links' 'Nr. Kirkcaldy' 'Moor at Clunas' 'Gannachy Woods'\n",
      " 'Cowdenbeath' 'Ochil Hills' 'Oakley Woods'\n",
      " 'on rocks below Caldron snout [Cauldron Snout]'\n",
      " 'Beechy Head [Beachy Head]' 'Loch Ericht' 'North Queensferry'\n",
      " 'North bank of Forth near Craigforth' 'Manipur'\n",
      " 'Halfway up Las cuevas Ridge' 'Queensferry N. Fife' 'Gunsgreen'\n",
      " 'Dunglass Dean' 'Campsie Glen' 'Darnaway Woods' 'Kirkstone'\n",
      " 'Tampasopo canyon' 'Nikko' 'Boynton near Bridlington' 'Near Liverpool'\n",
      " 'Askham Bog' 'Near Longniddry' 'Alt Skaerdie Glen Lochay' 'Loch Humphrey'\n",
      " 'Malham Cove' \"Ditches of the swampy moorland near Bruce's Castle\"\n",
      " 'Nr Blair Atholl' 'nr. Dumfries.' 'Near Cockburnspath'\n",
      " 'Sea coast n. Seafield Tower' 'Near Fasque Castle' 'Caenlochan glen'\n",
      " 'Longniddry' 'Tapeissui Gully' 'Near Kirkcaldy' 'Nr Killin' 'Monifieth'\n",
      " 'nr Wolsingham.' 'Regio aboensis: Lojo \"Ojamo\"' 'near Aberdeen.'\n",
      " 'Longsleddale' 'Gamlingay' 'Audley End' 'Baluchistan Wain [mountain]'\n",
      " 'near Pease Dean [nr. Cockburnspath?]' 'Tayniult' 'Dorking' 'Elie'\n",
      " 'Cockenzie Links' 'Glen Ogle' \"Tent's Muir\" 'near Glen Dole [Glen Doll]'\n",
      " 'Pofsil Marsh' 'Loch Lubnaig' \"King's Seat\" 'Carron Waters'\n",
      " 'near Montrose' 'Firwood near Grantown' 'Grizedale Tarn' 'Nova Friburgo'\n",
      " 'St Davids' 'Dalmahoy Hill' 'Newton' 'Camside[?] Knot' 'Near Brechin'\n",
      " 'Near Shipkee' 'North Berwick' 'Luib' 'Near Dover'\n",
      " 'Healthy wood north west of Dunfermline'\n",
      " ' A Blue Therardia found at the North Ferry ' 'Roman road side'\n",
      " 'Craighall Road' 'Cobham' 'Ochils' 'Dollar' 'Chichester'\n",
      " 'Chalky ground by the sea between Dover and Folkestone' 'Creag an Lochain'\n",
      " 'Alt Ghaordie Glen Lochay' 'Auchmithie Cliffs' 'Mount Boy Wood'\n",
      " 'Between Freshfield and Ainsdale' 'Dollywaggon Pike' 'Nisbet'\n",
      " 'Near Gullane' 'near Cobham' 'Wallingford & Paynes Town' 'Largo'\n",
      " 'Gordon moss' 'Mousley Hirst' 'Near Halifax' 'Route de Lhasa a Batang'\n",
      " 'Nr Kingston' 'Burntisland' 'Woods near Dunfermline' 'Coldingham Cliffs'\n",
      " 'Lochmaben' 'Easthaven' 'Thorne Moor York' 'Christchurch'\n",
      " 'In a bog S.W. of Darlington' 'Hills at North Queensferry' '[illeg.]'\n",
      " 'Bassies' 'Ormiston' 'Breags']\n",
      "394 Localities\n"
     ]
    }
   ],
   "source": [
    "print(df['locality'].unique())\n",
    "print(str(len(df['locality'].unique())) + \" Localities\")"
   ]
  },
  {
   "cell_type": "code",
   "execution_count": 51,
   "metadata": {},
   "outputs": [
    {
     "name": "stdout",
     "output_type": "stream",
     "text": [
      "['GB', 'IE', 'IN', 'MU', 'DZ', 'JP', 'AU', 'PG', nan, 'TR', 'GL', 'GR', 'BT', 'JM', 'TT', 'MX', 'CN', 'FI', 'GY', 'PK', 'BR']\n",
      "21 Country Codes\n",
      "['GB', 'IE', 'IN', 'MU', 'DZ', 'JP', 'AU', 'PG', 'TR', 'GL', 'GR', 'BT', 'JM', 'TT', 'MX', 'CN', 'FI', 'GY', 'PK', 'BR']\n"
     ]
    }
   ],
   "source": [
    "countries = list(df['countrycode'].unique())\n",
    "print(countries)\n",
    "print(str(len(countries)) + \" Country Codes\")\n",
    "clean_countries = []\n",
    "for c in countries:\n",
    "    if type(c) == str:\n",
    "        clean_countries += [c]\n",
    "print(clean_countries)\n",
    "#country_count = list(df.countrycode.value_counts())\n",
    "#assert len(country_count) == (len(countries) - 1), \"There should be a count for every countrycode value that's not nan.\""
   ]
  },
  {
   "cell_type": "markdown",
   "metadata": {},
   "source": [
    "# Creating Subdataframes"
   ]
  },
  {
   "cell_type": "code",
   "execution_count": 110,
   "metadata": {},
   "outputs": [
    {
     "data": {
      "text/html": [
       "<div>\n",
       "<style>\n",
       "    .dataframe thead tr:only-child th {\n",
       "        text-align: right;\n",
       "    }\n",
       "\n",
       "    .dataframe thead th {\n",
       "        text-align: left;\n",
       "    }\n",
       "\n",
       "    .dataframe tbody tr th {\n",
       "        vertical-align: top;\n",
       "    }\n",
       "</style>\n",
       "<table border=\"1\" class=\"dataframe\">\n",
       "  <thead>\n",
       "    <tr style=\"text-align: right;\">\n",
       "      <th></th>\n",
       "      <th>phylum</th>\n",
       "      <th>totalspecimens</th>\n",
       "    </tr>\n",
       "  </thead>\n",
       "  <tbody>\n",
       "    <tr>\n",
       "      <th>0</th>\n",
       "      <td>Tracheophyta</td>\n",
       "      <td>551</td>\n",
       "    </tr>\n",
       "    <tr>\n",
       "      <th>1</th>\n",
       "      <td>Bryophyta</td>\n",
       "      <td>11</td>\n",
       "    </tr>\n",
       "    <tr>\n",
       "      <th>2</th>\n",
       "      <td>Marchantiophyta</td>\n",
       "      <td>3</td>\n",
       "    </tr>\n",
       "  </tbody>\n",
       "</table>\n",
       "</div>"
      ],
      "text/plain": [
       "            phylum  totalspecimens\n",
       "0     Tracheophyta             551\n",
       "1        Bryophyta              11\n",
       "2  Marchantiophyta               3"
      ]
     },
     "execution_count": 110,
     "metadata": {},
     "output_type": "execute_result"
    }
   ],
   "source": [
    "phylum_df = df.phylum.value_counts()\n",
    "phylum_df\n",
    "phylum_count = []\n",
    "for p in phylum_list:\n",
    "    phylum_count += [ phylum_df[p] ]\n",
    "assert len(phylum_count) == len(phylum_list), \"There should be a count value for every phylum.\"\n",
    "phylum_df = pd.DataFrame({ 'phylum' : phylum_list, 'totalspecimens' : phylum_count })\n",
    "phylum_df"
   ]
  },
  {
   "cell_type": "code",
   "execution_count": 113,
   "metadata": {},
   "outputs": [
    {
     "data": {
      "text/html": [
       "<div>\n",
       "<style>\n",
       "    .dataframe thead tr:only-child th {\n",
       "        text-align: right;\n",
       "    }\n",
       "\n",
       "    .dataframe thead th {\n",
       "        text-align: left;\n",
       "    }\n",
       "\n",
       "    .dataframe tbody tr th {\n",
       "        vertical-align: top;\n",
       "    }\n",
       "</style>\n",
       "<table border=\"1\" class=\"dataframe\">\n",
       "  <thead>\n",
       "    <tr style=\"text-align: right;\">\n",
       "      <th></th>\n",
       "      <th>class</th>\n",
       "      <th>totalspecimens</th>\n",
       "    </tr>\n",
       "  </thead>\n",
       "  <tbody>\n",
       "    <tr>\n",
       "      <th>0</th>\n",
       "      <td>Magnoliopsida</td>\n",
       "      <td>460</td>\n",
       "    </tr>\n",
       "    <tr>\n",
       "      <th>1</th>\n",
       "      <td>Liliopsida</td>\n",
       "      <td>59</td>\n",
       "    </tr>\n",
       "    <tr>\n",
       "      <th>2</th>\n",
       "      <td>Sphagnopsida</td>\n",
       "      <td>10</td>\n",
       "    </tr>\n",
       "    <tr>\n",
       "      <th>3</th>\n",
       "      <td>Jungermanniopsida</td>\n",
       "      <td>3</td>\n",
       "    </tr>\n",
       "    <tr>\n",
       "      <th>4</th>\n",
       "      <td>Bryopsida</td>\n",
       "      <td>1</td>\n",
       "    </tr>\n",
       "    <tr>\n",
       "      <th>5</th>\n",
       "      <td>Polypodiopsida</td>\n",
       "      <td>32</td>\n",
       "    </tr>\n",
       "  </tbody>\n",
       "</table>\n",
       "</div>"
      ],
      "text/plain": [
       "               class  totalspecimens\n",
       "0      Magnoliopsida             460\n",
       "1         Liliopsida              59\n",
       "2       Sphagnopsida              10\n",
       "3  Jungermanniopsida               3\n",
       "4          Bryopsida               1\n",
       "5     Polypodiopsida              32"
      ]
     },
     "execution_count": 113,
     "metadata": {},
     "output_type": "execute_result"
    }
   ],
   "source": [
    "class_df = df['class'].value_counts()\n",
    "class_df\n",
    "class_count = []\n",
    "for cl in class_list:\n",
    "    class_count += [ class_df[cl] ]\n",
    "assert len(class_count) == len(class_list), \"There should be a count value for every class.\"\n",
    "class_df = pd.DataFrame({ 'class' : class_list, 'totalspecimens' : class_count })\n",
    "class_df"
   ]
  },
  {
   "cell_type": "code",
   "execution_count": 114,
   "metadata": {},
   "outputs": [
    {
     "data": {
      "text/html": [
       "<div>\n",
       "<style>\n",
       "    .dataframe thead tr:only-child th {\n",
       "        text-align: right;\n",
       "    }\n",
       "\n",
       "    .dataframe thead th {\n",
       "        text-align: left;\n",
       "    }\n",
       "\n",
       "    .dataframe tbody tr th {\n",
       "        vertical-align: top;\n",
       "    }\n",
       "</style>\n",
       "<table border=\"1\" class=\"dataframe\">\n",
       "  <thead>\n",
       "    <tr style=\"text-align: right;\">\n",
       "      <th></th>\n",
       "      <th>order</th>\n",
       "      <th>totalspecimens</th>\n",
       "    </tr>\n",
       "  </thead>\n",
       "  <tbody>\n",
       "    <tr>\n",
       "      <th>0</th>\n",
       "      <td>Saxifragales</td>\n",
       "      <td>179</td>\n",
       "    </tr>\n",
       "    <tr>\n",
       "      <th>1</th>\n",
       "      <td>Ranunculales</td>\n",
       "      <td>73</td>\n",
       "    </tr>\n",
       "    <tr>\n",
       "      <th>2</th>\n",
       "      <td>Ericales</td>\n",
       "      <td>63</td>\n",
       "    </tr>\n",
       "    <tr>\n",
       "      <th>3</th>\n",
       "      <td>Alismatales</td>\n",
       "      <td>36</td>\n",
       "    </tr>\n",
       "    <tr>\n",
       "      <th>4</th>\n",
       "      <td>Poales</td>\n",
       "      <td>14</td>\n",
       "    </tr>\n",
       "    <tr>\n",
       "      <th>5</th>\n",
       "      <td>Lamiales</td>\n",
       "      <td>2</td>\n",
       "    </tr>\n",
       "    <tr>\n",
       "      <th>6</th>\n",
       "      <td>Oxalidales</td>\n",
       "      <td>2</td>\n",
       "    </tr>\n",
       "    <tr>\n",
       "      <th>7</th>\n",
       "      <td>Gentianales</td>\n",
       "      <td>19</td>\n",
       "    </tr>\n",
       "    <tr>\n",
       "      <th>8</th>\n",
       "      <td>Caryophyllales</td>\n",
       "      <td>48</td>\n",
       "    </tr>\n",
       "    <tr>\n",
       "      <th>9</th>\n",
       "      <td>Asparagales</td>\n",
       "      <td>9</td>\n",
       "    </tr>\n",
       "    <tr>\n",
       "      <th>10</th>\n",
       "      <td>Sphagnales</td>\n",
       "      <td>10</td>\n",
       "    </tr>\n",
       "    <tr>\n",
       "      <th>11</th>\n",
       "      <td>Fabales</td>\n",
       "      <td>44</td>\n",
       "    </tr>\n",
       "    <tr>\n",
       "      <th>12</th>\n",
       "      <td>Sapindales</td>\n",
       "      <td>2</td>\n",
       "    </tr>\n",
       "    <tr>\n",
       "      <th>13</th>\n",
       "      <td>Rosales</td>\n",
       "      <td>8</td>\n",
       "    </tr>\n",
       "    <tr>\n",
       "      <th>14</th>\n",
       "      <td>Jungermanniales</td>\n",
       "      <td>3</td>\n",
       "    </tr>\n",
       "    <tr>\n",
       "      <th>15</th>\n",
       "      <td>Polytrichales</td>\n",
       "      <td>1</td>\n",
       "    </tr>\n",
       "    <tr>\n",
       "      <th>16</th>\n",
       "      <td>Polypodiales</td>\n",
       "      <td>32</td>\n",
       "    </tr>\n",
       "    <tr>\n",
       "      <th>17</th>\n",
       "      <td>Apiales</td>\n",
       "      <td>3</td>\n",
       "    </tr>\n",
       "    <tr>\n",
       "      <th>18</th>\n",
       "      <td>Malpighiales</td>\n",
       "      <td>4</td>\n",
       "    </tr>\n",
       "    <tr>\n",
       "      <th>19</th>\n",
       "      <td>Myrtales</td>\n",
       "      <td>5</td>\n",
       "    </tr>\n",
       "    <tr>\n",
       "      <th>20</th>\n",
       "      <td>Laurales</td>\n",
       "      <td>3</td>\n",
       "    </tr>\n",
       "    <tr>\n",
       "      <th>21</th>\n",
       "      <td>Aquifoliales</td>\n",
       "      <td>1</td>\n",
       "    </tr>\n",
       "    <tr>\n",
       "      <th>22</th>\n",
       "      <td>Piperales</td>\n",
       "      <td>1</td>\n",
       "    </tr>\n",
       "    <tr>\n",
       "      <th>23</th>\n",
       "      <td>Malvales</td>\n",
       "      <td>1</td>\n",
       "    </tr>\n",
       "    <tr>\n",
       "      <th>24</th>\n",
       "      <td>Asterales</td>\n",
       "      <td>1</td>\n",
       "    </tr>\n",
       "    <tr>\n",
       "      <th>25</th>\n",
       "      <td>Fagales</td>\n",
       "      <td>1</td>\n",
       "    </tr>\n",
       "  </tbody>\n",
       "</table>\n",
       "</div>"
      ],
      "text/plain": [
       "              order  totalspecimens\n",
       "0      Saxifragales             179\n",
       "1      Ranunculales              73\n",
       "2          Ericales              63\n",
       "3       Alismatales              36\n",
       "4            Poales              14\n",
       "5          Lamiales               2\n",
       "6        Oxalidales               2\n",
       "7       Gentianales              19\n",
       "8    Caryophyllales              48\n",
       "9       Asparagales               9\n",
       "10       Sphagnales              10\n",
       "11          Fabales              44\n",
       "12       Sapindales               2\n",
       "13          Rosales               8\n",
       "14  Jungermanniales               3\n",
       "15    Polytrichales               1\n",
       "16     Polypodiales              32\n",
       "17          Apiales               3\n",
       "18     Malpighiales               4\n",
       "19         Myrtales               5\n",
       "20         Laurales               3\n",
       "21     Aquifoliales               1\n",
       "22        Piperales               1\n",
       "23         Malvales               1\n",
       "24        Asterales               1\n",
       "25          Fagales               1"
      ]
     },
     "execution_count": 114,
     "metadata": {},
     "output_type": "execute_result"
    }
   ],
   "source": [
    "order_df = df['order'].value_counts()\n",
    "#order_df\n",
    "order_count = []\n",
    "for o in order_list:\n",
    "    order_count += [ order_df[o] ]\n",
    "assert len(order_count) == len(order_list), \"There should be a count value for every order.\"\n",
    "order_df = pd.DataFrame({ 'order' : order_list, 'totalspecimens' : order_count })\n",
    "order_df"
   ]
  },
  {
   "cell_type": "code",
   "execution_count": 85,
   "metadata": {},
   "outputs": [
    {
     "data": {
      "text/html": [
       "<div>\n",
       "<style>\n",
       "    .dataframe thead tr:only-child th {\n",
       "        text-align: right;\n",
       "    }\n",
       "\n",
       "    .dataframe thead th {\n",
       "        text-align: left;\n",
       "    }\n",
       "\n",
       "    .dataframe tbody tr th {\n",
       "        vertical-align: top;\n",
       "    }\n",
       "</style>\n",
       "<table border=\"1\" class=\"dataframe\">\n",
       "  <thead>\n",
       "    <tr style=\"text-align: right;\">\n",
       "      <th></th>\n",
       "      <th>countrycode</th>\n",
       "      <th>totalspecimens</th>\n",
       "    </tr>\n",
       "  </thead>\n",
       "  <tbody>\n",
       "    <tr>\n",
       "      <th>0</th>\n",
       "      <td>GB</td>\n",
       "      <td>456</td>\n",
       "    </tr>\n",
       "    <tr>\n",
       "      <th>1</th>\n",
       "      <td>IE</td>\n",
       "      <td>9</td>\n",
       "    </tr>\n",
       "    <tr>\n",
       "      <th>2</th>\n",
       "      <td>IN</td>\n",
       "      <td>24</td>\n",
       "    </tr>\n",
       "    <tr>\n",
       "      <th>3</th>\n",
       "      <td>MU</td>\n",
       "      <td>1</td>\n",
       "    </tr>\n",
       "    <tr>\n",
       "      <th>4</th>\n",
       "      <td>DZ</td>\n",
       "      <td>2</td>\n",
       "    </tr>\n",
       "  </tbody>\n",
       "</table>\n",
       "</div>"
      ],
      "text/plain": [
       "  countrycode  totalspecimens\n",
       "0          GB             456\n",
       "1          IE               9\n",
       "2          IN              24\n",
       "3          MU               1\n",
       "4          DZ               2"
      ]
     },
     "execution_count": 85,
     "metadata": {},
     "output_type": "execute_result"
    }
   ],
   "source": [
    "country_df = df.countrycode.value_counts()\n",
    "country_df.tail()\n",
    "country_count = []\n",
    "for c in clean_countries:\n",
    "    country_count += [ country_df[c] ]\n",
    "country_df = pd.DataFrame( { 'countrycode' : clean_countries, 'totalspecimens' : country_count })\n",
    "country_df.head()"
   ]
  },
  {
   "cell_type": "code",
   "execution_count": 98,
   "metadata": {},
   "outputs": [
    {
     "data": {
      "text/html": [
       "<div>\n",
       "<style>\n",
       "    .dataframe thead tr:only-child th {\n",
       "        text-align: right;\n",
       "    }\n",
       "\n",
       "    .dataframe thead th {\n",
       "        text-align: left;\n",
       "    }\n",
       "\n",
       "    .dataframe tbody tr th {\n",
       "        vertical-align: top;\n",
       "    }\n",
       "</style>\n",
       "<table border=\"1\" class=\"dataframe\">\n",
       "  <thead>\n",
       "    <tr style=\"text-align: right;\">\n",
       "      <th></th>\n",
       "      <th>countrycode</th>\n",
       "      <th>totalspecimens</th>\n",
       "    </tr>\n",
       "  </thead>\n",
       "  <tbody>\n",
       "    <tr>\n",
       "      <th>0</th>\n",
       "      <td>IE</td>\n",
       "      <td>9</td>\n",
       "    </tr>\n",
       "    <tr>\n",
       "      <th>1</th>\n",
       "      <td>IN</td>\n",
       "      <td>24</td>\n",
       "    </tr>\n",
       "    <tr>\n",
       "      <th>2</th>\n",
       "      <td>MU</td>\n",
       "      <td>1</td>\n",
       "    </tr>\n",
       "    <tr>\n",
       "      <th>3</th>\n",
       "      <td>DZ</td>\n",
       "      <td>2</td>\n",
       "    </tr>\n",
       "    <tr>\n",
       "      <th>4</th>\n",
       "      <td>JP</td>\n",
       "      <td>2</td>\n",
       "    </tr>\n",
       "  </tbody>\n",
       "</table>\n",
       "</div>"
      ],
      "text/plain": [
       "  countrycode  totalspecimens\n",
       "0          IE               9\n",
       "1          IN              24\n",
       "2          MU               1\n",
       "3          DZ               2\n",
       "4          JP               2"
      ]
     },
     "execution_count": 98,
     "metadata": {},
     "output_type": "execute_result"
    }
   ],
   "source": [
    "#cc_df = pd.melt(df, id_vars = ['countrycode'], value_vars=['genus', 'species'])\n",
    "#cc_df.tail()\n",
    "outsideGB_count = country_count[1:]\n",
    "outsideGB = clean_countries[1:]\n",
    "assert len(outsideGB_count) == len(outsideGB), \"There should be a count value for every country outside GB\"\n",
    "outsideGB_df = pd.DataFrame( { 'countrycode' : outsideGB, 'totalspecimens' : outsideGB_count })\n",
    "outsideGB_df.head()"
   ]
  },
  {
   "cell_type": "markdown",
   "metadata": {},
   "source": [
    "# Graphing"
   ]
  },
  {
   "cell_type": "code",
   "execution_count": 16,
   "metadata": {
    "collapsed": true
   },
   "outputs": [],
   "source": [
    "%matplotlib inline\n",
    "import numpy as np\n",
    "import seaborn as sns\n",
    "import matplotlib.pyplot as plt"
   ]
  },
  {
   "cell_type": "code",
   "execution_count": 66,
   "metadata": {},
   "outputs": [
    {
     "data": {
      "image/png": "[encoded data removed]",
      "text/plain": [
       "<matplotlib.figure.Figure at 0x1a196afbe0>"
      ]
     },
     "metadata": {},
     "output_type": "display_data"
    },
    {
     "data": {
      "image/png": "[encoded data removed]",
      "text/plain": [
       "<matplotlib.figure.Figure at 0x114bcd320>"
      ]
     },
     "metadata": {},
     "output_type": "display_data"
    }
   ],
   "source": [
    "g = sns.factorplot(\"countrycode\", \"totalspecimens\", data=country_df, kind=\"bar\", palette=\"muted\", size=8, aspect=2, legend=False)\n",
    "plt.show()\n",
    "\n",
    "ax = sns.swarmplot(x=\"countrycode\", y=\"totalspecimens\", data=country_df)\n",
    "ax.set_title(\"Total Specimens per Country at RBGE in its First 100 Years\")\n",
    "plt.show()\n",
    "\n",
    "#sns.barplot(x='countrycode', y='totalspecimens', data=country_df, ax=axes[0]).set_title('Specimens per Country')"
   ]
  },
  {
   "cell_type": "code",
   "execution_count": 99,
   "metadata": {},
   "outputs": [
    {
     "data": {
      "image/png": "[encoded data removed]",
      "text/plain": [
       "<matplotlib.figure.Figure at 0x10f1c86d8>"
      ]
     },
     "metadata": {},
     "output_type": "display_data"
    }
   ],
   "source": [
    "g = sns.factorplot(\"countrycode\", \"totalspecimens\", data=outsideGB_df, kind=\"bar\", palette=\"muted\", size=8, aspect=2, legend=False)\n",
    "plt.show()"
   ]
  },
  {
   "cell_type": "code",
   "execution_count": 116,
   "metadata": {},
   "outputs": [
    {
     "data": {
      "image/png": "[encoded data removed]",
      "text/plain": [
       "<matplotlib.figure.Figure at 0x1a19771898>"
      ]
     },
     "metadata": {},
     "output_type": "display_data"
    }
   ],
   "source": [
    "g = sns.factorplot(\"order\", \"totalspecimens\", data=order_df, kind=\"bar\", palette=\"muted\", size=8, aspect=2, legend=False)\n",
    "g.set_xticklabels(rotation=30)\n",
    "plt.show()"
   ]
  },
  {
   "cell_type": "code",
   "execution_count": null,
   "metadata": {
    "collapsed": true
   },
   "outputs": [],
   "source": []
  }
 ],
 "metadata": {
  "kernelspec": {
   "display_name": "Python 3",
   "language": "python",
   "name": "python3"
  },
  "language_info": {
   "codemirror_mode": {
    "name": "ipython",
    "version": 3
   },
   "file_extension": ".py",
   "mimetype": "text/x-python",
   "name": "python",
   "nbconvert_exporter": "python",
   "pygments_lexer": "ipython3",
   "version": "3.6.2"
  }
 },
 "nbformat": 4,
 "nbformat_minor": 2
}
